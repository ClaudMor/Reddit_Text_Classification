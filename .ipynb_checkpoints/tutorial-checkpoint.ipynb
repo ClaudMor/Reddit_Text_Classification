{
 "cells": [
  {
   "cell_type": "markdown",
   "metadata": {},
   "source": [
    "# Python \n",
    "\n",
    "### Programming\n",
    "* [Introduction to Python](https://www.datacamp.com/courses/intro-to-python-for-data-science)\n",
    "* [Intermediate Python](https://www.datacamp.com/courses/intermediate-python)\n",
    "* [Data Science Toolbox 1](https://www.datacamp.com/courses/python-data-science-toolbox-part-1)\n",
    "* [Data Science Toolbox 2](https://www.datacamp.com/courses/python-data-science-toolbox-part-2)\n",
    "\n",
    "#### Coding Best Practices with Python\n",
    "* [Writing Efficient Python Code](https://www.datacamp.com/courses/writing-efficient-python-code)\n",
    "* [Writing Efficient Code with pandas](https://www.datacamp.com/courses/writing-efficient-code-with-pandas)\n",
    "* [Writing Funcitons in Python](https://www.datacamp.com/courses/writing-functions-in-python)\n",
    "* [Object-Oriented Programming in Python](https://www.datacamp.com/courses/object-oriented-programming-in-python)\n",
    "\n",
    "### Data Collection & Cleaning\n",
    "\n",
    "* [Introduction](https://www.datacamp.com/courses/introduction-to-importing-data-in-python)\n",
    "* [Intermediate](https://www.datacamp.com/courses/intermediate-importing-data-in-python)\n",
    "* [Cleaning](https://www.datacamp.com/courses/cleaning-data-in-python)\n",
    "\n",
    "### Data Manipulation \n",
    "* [pandas Foundations](https://www.datacamp.com/courses/pandas-foundations)\n",
    "* [Manipulating DataFrames with pandas](https://www.datacamp.com/courses/manipulating-dataframes-with-pandas)\n",
    "* [Merging DataFrames with pandas](https://www.datacamp.com/courses/merging-dataframes-with-pandas)\n",
    "\n",
    "### Data Visualization\n",
    "* [Introduction to Data Viz with Matplotlib](https://www.datacamp.com/courses/introduction-to-data-visualization-with-matplotlib)\n",
    "* [Introduction to Data Viz with Seaborn](https://www.datacamp.com/courses/introduction-to-data-visualization-with-seaborn)\n",
    "* [Improving Data Viz)(https://www.datacamp.com/courses/improving-your-data-visualizations-in-python)\n",
    "* [Interactive Data Viz](https://www.datacamp.com/courses/interactive-data-visualization-with-bokeh)\n",
    "\n",
    "### Machine Learning \n",
    "* [Supervised Learning with scikit-learn](https://www.datacamp.com/courses/supervised-learning-with-scikit-learn)\n",
    "* [Unsupervised Learning in Python](https://www.datacamp.com/courses/unsupervised-learning-in-python)\n",
    "* [Linear Classifiers in Python](https://www.datacamp.com/courses/linear-classifiers-in-python)\n",
    "\n",
    "#### NLP\n",
    "* [Introduction to Natural Language Processing in Python](https://www.datacamp.com/courses/introduction-to-natural-language-processing-in-python)\n",
    "* [Advanced NLP with spaCy](https://learn.datacamp.com/courses/advanced-nlp-with-spacy)\n",
    "\n"
   ]
  },
  {
   "cell_type": "markdown",
   "metadata": {},
   "source": [
    "## Introduction to Python"
   ]
  },
  {
   "cell_type": "markdown",
   "metadata": {},
   "source": [
    "### Modules"
   ]
  },
  {
   "cell_type": "code",
   "execution_count": 95,
   "metadata": {
    "jupyter": {
     "source_hidden": true
    }
   },
   "outputs": [],
   "source": [
    "import math\n",
    "from math import * \n",
    "from math import cos, sin"
   ]
  },
  {
   "cell_type": "markdown",
   "metadata": {},
   "source": [
    "### Variables & Types"
   ]
  },
  {
   "cell_type": "code",
   "execution_count": 96,
   "metadata": {
    "jupyter": {
     "source_hidden": true
    }
   },
   "outputs": [
    {
     "data": {
      "text/plain": [
       "bool"
      ]
     },
     "execution_count": 96,
     "metadata": {},
     "output_type": "execute_result"
    }
   ],
   "source": [
    "# Assignment \n",
    "a = 2\n",
    "b = 3.7\n",
    "c = [1,2,3]\n",
    "d = True \n",
    "e = \"Hi guys!\"\n",
    "\n",
    "# Types\n",
    "type(a) # int \n",
    "type(b) # float \n",
    "type(c) # list\n",
    "type(d) # bool\n",
    "type(d) # str"
   ]
  },
  {
   "cell_type": "markdown",
   "metadata": {},
   "source": [
    "### Operators & Comparisons"
   ]
  },
  {
   "cell_type": "code",
   "execution_count": 97,
   "metadata": {
    "jupyter": {
     "source_hidden": true
    }
   },
   "outputs": [
    {
     "data": {
      "text/plain": [
       "True"
      ]
     },
     "execution_count": 97,
     "metadata": {},
     "output_type": "execute_result"
    }
   ],
   "source": [
    "# Arithmetic Operators \n",
    "a+b, a-b # addition\n",
    "a*b, a/b # multiplication\n",
    "a**b == pow(a,b) # power \n",
    "\n",
    "# Comparison Operators \n",
    "a==b, a!=b # equality tets\n",
    "a<b, a<=b, a>b, a>=b # inequality test\n",
    "a is b # object identity \n",
    "\n",
    "# Boolean Operators \n",
    "\n",
    "True and False\n",
    "True or False \n",
    "not False "
   ]
  },
  {
   "cell_type": "markdown",
   "metadata": {},
   "source": [
    "### Compound Types\n",
    "#### Strings"
   ]
  },
  {
   "cell_type": "code",
   "execution_count": 98,
   "metadata": {
    "jupyter": {
     "source_hidden": true
    }
   },
   "outputs": [
    {
     "name": "stdout",
     "output_type": "stream",
     "text": [
      "Hello globe!\n",
      "My name is Gianni, his name is Mario.\n"
     ]
    }
   ],
   "source": [
    "# Assignment \n",
    "string = \"Hello world!\"\n",
    "string2 = \"Gianni\"\n",
    "string3 = \"Mario\"\n",
    "\n",
    "# Type\n",
    "type(string) #str\n",
    "\n",
    "# Length\n",
    "len(string)\n",
    "\n",
    "# Replace \n",
    "print(string.replace(\"world\",\"globe\"))\n",
    "\n",
    "# Indexing\n",
    "string[0] == \"H\"\n",
    "\n",
    "# Slicing\n",
    "string[1:4] == \"ell\" # [included : excluded]\n",
    "string[0:] == string[:] == string \n",
    "string[:7] == \"Hello w\"\n",
    "string[::1] == string # [start stop step]\n",
    "\n",
    "# Formatting \n",
    "print(f\"My name is {string2}, his name is {string3}.\")"
   ]
  },
  {
   "cell_type": "markdown",
   "metadata": {},
   "source": [
    "#### Lists\n",
    "Lists are very similar to strings, except that each element can be of any type.\n",
    "\n"
   ]
  },
  {
   "cell_type": "code",
   "execution_count": 99,
   "metadata": {
    "jupyter": {
     "source_hidden": true
    }
   },
   "outputs": [],
   "source": [
    "# Assignment \n",
    "l1 = [0,1,2,3,4]\n",
    "l2 = [0, \"a\", True, l1]\n",
    "l3 = [9,3,4,5,6]\n",
    "start = 0\n",
    "stop = 5\n",
    "step = 1\n",
    "\n",
    "# Type\n",
    "type(l1) #list\n",
    "type(l2) #list\n",
    "\n",
    "# Length\n",
    "len(l1) < len(l2)\n",
    "\n",
    "# Empty \n",
    "l = []\n",
    "\n",
    "# Range\n",
    "list(range(start,stop,step)) == l1 # type casting, stop excluded\n",
    "\n",
    "# Sorting\n",
    "sorted(l1) == l1\n",
    "\n",
    "# Append\n",
    "l.append(1) # [] -> [1]\n",
    "\n",
    "# Modify\n",
    "l3[1:3] = l1[1:3]\n",
    "\n",
    "# Insert\n",
    "l.insert(1, 2) # [1] -> [1,2]\n",
    "\n",
    "# Remove \n",
    "l.remove(2) # [1,2] -> [1]"
   ]
  },
  {
   "cell_type": "markdown",
   "metadata": {},
   "source": [
    "#### Tuples\n",
    "Tuples are like lists, except that they are *immutable*: cannot be modified once created."
   ]
  },
  {
   "cell_type": "code",
   "execution_count": 100,
   "metadata": {
    "jupyter": {
     "source_hidden": true
    }
   },
   "outputs": [
    {
     "name": "stdout",
     "output_type": "stream",
     "text": [
      "x = 0 \n",
      "y = 1\n"
     ]
    },
    {
     "data": {
      "text/plain": [
       "False"
      ]
     },
     "execution_count": 100,
     "metadata": {},
     "output_type": "execute_result"
    }
   ],
   "source": [
    "# Assignment \n",
    "t1 = (0,1) \n",
    "t1 = 0,1\n",
    "t2 = (0, \"a\", True, l1)\n",
    "t3 = (9,3,4,5,6)\n",
    "start = 0\n",
    "stop = 5\n",
    "step = 1\n",
    "\n",
    "# Type\n",
    "type(t1) # tuple\n",
    "\n",
    "# Unpack\n",
    "x,y = t1\n",
    "print(f\"x = {x} \\ny = {y}\")\n",
    "\n",
    "# Length\n",
    "len(t1) < len(t2)\n",
    "\n",
    "# Empty \n",
    "t = ()\n",
    "\n",
    "# Range\n",
    "range(start,stop,step) \n",
    "\n",
    "# Sorting\n",
    "sorted(t1) == t1\n",
    "\n",
    "# Modify (impossible!)\n",
    "#t1[0] = 1 # ERROR: tuples are immutable"
   ]
  },
  {
   "cell_type": "markdown",
   "metadata": {},
   "source": [
    "#### Dictionaries\n",
    "Dictionaries are like lists, except that each element is a `{key : value}` pair."
   ]
  },
  {
   "cell_type": "code",
   "execution_count": 101,
   "metadata": {
    "jupyter": {
     "source_hidden": true
    }
   },
   "outputs": [
    {
     "name": "stdout",
     "output_type": "stream",
     "text": [
      "x = 0 \n",
      "y = 1\n"
     ]
    }
   ],
   "source": [
    "# Assignment \n",
    "d1 = { \"A\" : 0,\n",
    "       \"B\" : 1,\n",
    "       \"C\" : 2}\n",
    "\n",
    "# Type\n",
    "type(d1) # dict\n",
    "\n",
    "# Unpack\n",
    "x,y = t1\n",
    "print(f\"x = {x} \\ny = {y}\")\n",
    "\n",
    "# Length\n",
    "len(d1)\n",
    "\n",
    "# Empty \n",
    "d = {}\n",
    "\n",
    "# Sorting\n",
    "sorted(d1) # create a list of alphabetically ordered keys\n",
    "\n",
    "# Modify\n",
    "d1[\"A\"] += 1\n",
    "\n",
    "# Insert\n",
    "d1[\"D\"] = 3"
   ]
  },
  {
   "cell_type": "markdown",
   "metadata": {},
   "source": [
    "### Control Flow \n",
    "\n",
    "#### Conditional statements"
   ]
  },
  {
   "cell_type": "code",
   "execution_count": 102,
   "metadata": {
    "jupyter": {
     "source_hidden": true
    }
   },
   "outputs": [
    {
     "ename": "IndentationError",
     "evalue": "unexpected indent (<ipython-input-102-36ff2c1794a5>, line 8)",
     "output_type": "error",
     "traceback": [
      "\u001b[0;36m  File \u001b[0;32m\"<ipython-input-102-36ff2c1794a5>\"\u001b[0;36m, line \u001b[0;32m8\u001b[0m\n\u001b[0;31m    print(\"statement2 is True\")\u001b[0m\n\u001b[0m    ^\u001b[0m\n\u001b[0;31mIndentationError\u001b[0m\u001b[0;31m:\u001b[0m unexpected indent\n"
     ]
    }
   ],
   "source": [
    "statement1 = False\n",
    "statement2 = False\n",
    "\n",
    "if statement1:\n",
    "    print(\"statement1 is True\")\n",
    "    \n",
    "elif statement2:i = 0\n",
    "    print(\"statement2 is True\")\n",
    "    \n",
    "else:\n",
    "    print(\"statement1 and statement2 are False\")"
   ]
  },
  {
   "cell_type": "markdown",
   "metadata": {},
   "source": [
    "#### Loops\n",
    "\n",
    "##### `for` Loops"
   ]
  },
  {
   "cell_type": "code",
   "execution_count": null,
   "metadata": {
    "jupyter": {
     "source_hidden": true
    }
   },
   "outputs": [],
   "source": [
    "for x in range(4): # by default range start at 0\n",
    "    print(x)\n",
    "    \n",
    "for word in [\"scientific\", \"computing\", \"with\", \"python\"]:\n",
    "    print(word)\n",
    "    \n",
    "# List comprehensions\n",
    "\n",
    "l1 = [x**2 for x in range(0,5)]\n",
    "print(l1)"
   ]
  },
  {
   "cell_type": "markdown",
   "metadata": {},
   "source": [
    "##### `while` loops:"
   ]
  },
  {
   "cell_type": "code",
   "execution_count": null,
   "metadata": {
    "jupyter": {
     "source_hidden": true
    }
   },
   "outputs": [],
   "source": [
    "while i < 5:\n",
    "    print(i)\n",
    "    \n",
    "    i = i + 1\n",
    "    \n",
    "print(\"done\")"
   ]
  },
  {
   "cell_type": "markdown",
   "metadata": {},
   "source": [
    "### Functions "
   ]
  },
  {
   "cell_type": "code",
   "execution_count": null,
   "metadata": {
    "jupyter": {
     "source_hidden": true
    }
   },
   "outputs": [],
   "source": [
    "# Function Definition\n",
    "def f1():          # 0-parameters function\n",
    "    \"\"\" Print \"test\". \"\"\" # DOCSTRING: documentation string\n",
    "    print(\"test\")\n",
    "\n",
    "def f2(x): \n",
    "    \"\"\" Print the string stored in x. \"\"\" # DOCSTRING: documentation string\n",
    "    print(x)\n",
    "\n",
    "# Function Execution\n",
    "f1()\n",
    "f2(string)"
   ]
  },
  {
   "cell_type": "markdown",
   "metadata": {},
   "source": [
    "### Classes\n",
    "\n",
    "Key features of *object-oriented programming*: data structures which can contain *attributes* (variables) and *methods* (functions).\n",
    "\n",
    "* Each class method should have an argument `self` as it first argument. This object is a self-reference.\n",
    "* Some class method names have special meaning, for example:\n",
    "    * `__init__`: The name of the method that is invoked when the object is first created.\n",
    "    * `__str__` : A method that is invoked when a simple string representation of the class is needed, as for example when printed.\n",
    "    * There are many more, see http://docs.python.org/2/reference/datamodel.html#special-method-names"
   ]
  },
  {
   "cell_type": "code",
   "execution_count": null,
   "metadata": {
    "jupyter": {
     "source_hidden": true
    }
   },
   "outputs": [],
   "source": [
    "# Definition (e.g. The Point)\n",
    "class Point:\n",
    "    \"\"\"\n",
    "    Simple class for representing a point in a Cartesian coordinate system.\n",
    "    \"\"\"\n",
    "    \n",
    "    def __init__(self, x, y):\n",
    "        \"\"\"\n",
    "        CONSTRUCTOR: Create a new Point at x, y.\n",
    "        \"\"\"\n",
    "        self.x = x\n",
    "        self.y = y\n",
    "        \n",
    "    def translate(self, dx, dy):\n",
    "        \"\"\"\n",
    "        Translate the point by dx and dy in the x and y direction.\n",
    "        \"\"\"\n",
    "        self.x += dx\n",
    "        self.y += dy\n",
    "        \n",
    "    def __str__(self):\n",
    "        return(f\"Point at ({self.x},{self.y})\")\n",
    "\n",
    "# Instatiation (e.g. a point)\n",
    "o = Point(0,0)\n",
    "p1 = Point(0,1)\n",
    "p2 = Point(1,0)\n",
    "\n",
    "# Visual Representation (__str__ method)\n",
    "points = [o, p1, p2]\n",
    "for p in points:\n",
    "    print(p)\n",
    "\n",
    "# Dynamics (__translate__ method)\n",
    "p1.translate(2,2)\n",
    "p2.translate(-2,-2)\n",
    "for p in points:\n",
    "    print(p)"
   ]
  },
  {
   "cell_type": "markdown",
   "metadata": {},
   "source": [
    "### Numpy: *Numeric Python*\n",
    "\n",
    "NumPy is the **fundamental package for scientific computing with Python**. It contains among other things:\n",
    "\n",
    "* a powerful N-dimensional array object\n",
    "* sophisticated (**broadcasting**) functions \n",
    "* tools for integrating C/C++ and Fortran code\n",
    "* useful linear algebra, Fourier transform, and random number capabilities"
   ]
  },
  {
   "cell_type": "code",
   "execution_count": 125,
   "metadata": {},
   "outputs": [
    {
     "data": {
      "text/plain": [
       "array([ 0,  1,  2,  3,  4,  5,  6,  7,  8,  9, 10, 11, 12, 13, 14, 15, 16,\n",
       "       17, 18, 19, 20, 21, 22, 23, 24, 25, 26, 27, 28, 29, 30, 31, 32, 33,\n",
       "       34, 35, 36, 37, 38, 39, 40, 41, 42, 43, 44, 45, 46, 47, 48, 49])"
      ]
     },
     "execution_count": 125,
     "metadata": {},
     "output_type": "execute_result"
    }
   ],
   "source": [
    "# Import Numpy \n",
    "import numpy as np\n",
    "\n",
    "# Numpy Arrays\n",
    "a0 = np.array(5) # a 0-array\n",
    "a1 = np.array([0,1,2,3]) # a 1-array\n",
    "a2 = np.array(([0,1,2,3,4], [0,1,2,3,4])) # a 2-array\n",
    "\n",
    "# Dimensionality \n",
    "a0.ndim == 0\n",
    "a1.ndim == 1\n",
    "a2.ndim == 2\n",
    "\n",
    "# Shape \n",
    "a0.shape == ()\n",
    "a1.shape == (4,)\n",
    "a2.shape == (2,5)\n",
    "\n",
    "# Range \n",
    "a = np.arange(0,10,1) # range -> array\n",
    "\n",
    "# Zeros\n",
    "zeros = np.zeros((2,2))  # shape -> array\n",
    "\n",
    "# Ones \n",
    "ones = np.ones((2,2))    # shape -> array\n",
    "\n",
    "# Empty \n",
    "empty = np.empty((2,2))  # shape -> array\n",
    "\n",
    "# Eye \n",
    "eye = np.eye(4,4,3)     # (n.rows, n.cols, first 1)\n",
    "\n",
    "# Identity \n",
    "identity = np.identity(4) # rank of square matrix\n",
    "\n",
    "# Diagonal\n",
    "diagonal = np.diag(np.arange(4)) # array -> diagonal\n",
    "\n",
    "# Linspace\n",
    "linspace = np.linspace(1,10,5) # (start, stop, n.elements)\n",
    "\n",
    "# Logspace\n",
    "logspace = np.logspace(1,3,10) # (start, stop, n.elements)\n",
    "\n",
    "# Reshape \n",
    "np.arange(50).reshape(25,2)  # (50,1) -> (25,2)\n",
    "\n",
    "# Transpose  \n",
    "np.arange(50).T             # (50,1) -> (1,50)"
   ]
  },
  {
   "cell_type": "code",
   "execution_count": null,
   "metadata": {},
   "outputs": [],
   "source": []
  },
  {
   "cell_type": "code",
   "execution_count": null,
   "metadata": {},
   "outputs": [],
   "source": []
  }
 ],
 "metadata": {
  "kernelspec": {
   "display_name": "Python 3",
   "language": "python",
   "name": "python3"
  },
  "language_info": {
   "codemirror_mode": {
    "name": "ipython",
    "version": 3
   },
   "file_extension": ".py",
   "mimetype": "text/x-python",
   "name": "python",
   "nbconvert_exporter": "python",
   "pygments_lexer": "ipython3",
   "version": "3.7.4"
  }
 },
 "nbformat": 4,
 "nbformat_minor": 4
}
