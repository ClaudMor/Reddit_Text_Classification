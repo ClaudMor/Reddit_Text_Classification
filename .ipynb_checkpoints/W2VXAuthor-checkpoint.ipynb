{
 "cells": [
  {
   "cell_type": "code",
   "execution_count": 1,
   "metadata": {},
   "outputs": [
    {
     "name": "stdout",
     "output_type": "stream",
     "text": [
      "Populating the interactive namespace from numpy and matplotlib\n"
     ]
    }
   ],
   "source": [
    "%pylab inline\n",
    "import pandas as pd\n",
    "import tqdm"
   ]
  },
  {
   "cell_type": "markdown",
   "metadata": {},
   "source": [
    "# Load the train data"
   ]
  },
  {
   "cell_type": "code",
   "execution_count": 2,
   "metadata": {},
   "outputs": [],
   "source": [
    "# Su questo file ci sono i commenti raggruppati per autore e vettorizzati tramite w2v. Sono 5000 vettori di 200 \n",
    "# componenti l'uno \n",
    "train_w2v = pd.read_pickle(\"TrainW2VXAuthor.csv\")  "
   ]
  },
  {
   "cell_type": "code",
   "execution_count": 3,
   "metadata": {},
   "outputs": [
    {
     "name": "stdout",
     "output_type": "stream",
     "text": [
      "5000\n"
     ]
    },
    {
     "data": {
      "text/plain": [
       "0    [-0.12935811, -0.13093102, -0.11762878, 0.0317...\n",
       "1    [-0.03992967, -0.15108569, -0.05405604, 0.0688...\n",
       "2    [-0.010448196, -0.16257766, -0.062682435, 0.08...\n",
       "3    [-0.048508164, -0.18944433, -0.035430044, 0.03...\n",
       "4    [-0.046319243, -0.19266394, -0.04684512, 0.080...\n",
       "Name: W2V, dtype: object"
      ]
     },
     "execution_count": 3,
     "metadata": {},
     "output_type": "execute_result"
    }
   ],
   "source": [
    "print (train_w2v.shape[0])\n",
    "train_w2v.W2V.head()"
   ]
  },
  {
   "cell_type": "markdown",
   "metadata": {},
   "source": [
    "# Model Selection"
   ]
  },
  {
   "cell_type": "code",
   "execution_count": 4,
   "metadata": {},
   "outputs": [],
   "source": [
    "from sklearn.preprocessing import StandardScaler # For scaling\n",
    "from sklearn.model_selection import train_test_split # for creating valid set and train set \n",
    "from sklearn.neural_network import MLPClassifier\n",
    "from sklearn.model_selection import KFold\n",
    "from sklearn.svm import SVC, LinearSVC"
   ]
  },
  {
   "cell_type": "code",
   "execution_count": 5,
   "metadata": {},
   "outputs": [],
   "source": [
    "#Dataset\n",
    "X = np.array(list(map(np.array, train_w2v.W2V)))\n",
    "y = np.array(list(map(np.array, train_w2v.gender)))\n"
   ]
  },
  {
   "cell_type": "code",
   "execution_count": 6,
   "metadata": {},
   "outputs": [],
   "source": [
    "# Training set + validation set\n",
    "SEED = 20003\n",
    "x_train , x_validation, y_train , y_validation = train_test_split(X, y, test_size = 1000, \n",
    "                                                                 random_state = SEED)\n",
    "\n",
    "# Il validation set è di dimensione 1000 (1/5 del totale --> rule of thumb) perchè dopo questa classificazione dobbiamo \n",
    "# fare una regressione logistica e quindi dobbiamo dividere i 1000 ulteriormente in 800 per il training e 200 per \n",
    "# validation della logistica \n"
   ]
  },
  {
   "cell_type": "code",
   "execution_count": 7,
   "metadata": {},
   "outputs": [
    {
     "name": "stdout",
     "output_type": "stream",
     "text": [
      "Iteration 1, loss = 0.64372279\n",
      "Validation score: 0.725000\n",
      "Iteration 2, loss = 0.60491113\n",
      "Validation score: 0.725000\n",
      "Iteration 3, loss = 0.59591275\n",
      "Validation score: 0.725000\n",
      "Iteration 4, loss = 0.58848014\n",
      "Validation score: 0.725000\n",
      "Validation score did not improve more than tol=0.000100 for two consecutive epochs. Stopping.\n",
      "0.6975\n",
      "Iteration 1, loss = 0.65071396\n",
      "Validation score: 0.733333\n",
      "Iteration 2, loss = 0.61077086\n",
      "Validation score: 0.733333\n",
      "Iteration 3, loss = 0.59683232\n",
      "Validation score: 0.733333\n",
      "Iteration 4, loss = 0.58586966\n",
      "Validation score: 0.733333\n",
      "Validation score did not improve more than tol=0.000100 for two consecutive epochs. Stopping.\n",
      "0.72\n",
      "Iteration 1, loss = 0.62437554\n",
      "Validation score: 0.750000\n",
      "Iteration 2, loss = 0.60492102\n",
      "Validation score: 0.750000\n",
      "Iteration 3, loss = 0.59171695\n",
      "Validation score: 0.750000\n",
      "Iteration 4, loss = 0.58069969\n",
      "Validation score: 0.750000\n",
      "Validation score did not improve more than tol=0.000100 for two consecutive epochs. Stopping.\n",
      "0.72\n",
      "Iteration 1, loss = 0.61490276\n",
      "Validation score: 0.755556\n",
      "Iteration 2, loss = 0.59897676\n",
      "Validation score: 0.755556\n",
      "Iteration 3, loss = 0.58753701\n",
      "Validation score: 0.755556\n",
      "Iteration 4, loss = 0.57841472\n",
      "Validation score: 0.755556\n",
      "Validation score did not improve more than tol=0.000100 for two consecutive epochs. Stopping.\n",
      "0.705\n",
      "Iteration 1, loss = 0.63484279\n",
      "Validation score: 0.713889\n",
      "Iteration 2, loss = 0.60405095\n",
      "Validation score: 0.713889\n",
      "Iteration 3, loss = 0.59277366\n",
      "Validation score: 0.713889\n",
      "Iteration 4, loss = 0.58317561\n",
      "Validation score: 0.713889\n",
      "Validation score did not improve more than tol=0.000100 for two consecutive epochs. Stopping.\n",
      "0.715\n",
      "Iteration 1, loss = 0.64048318\n",
      "Validation score: 0.725000\n",
      "Iteration 2, loss = 0.61103477\n",
      "Validation score: 0.725000\n",
      "Iteration 3, loss = 0.59961049\n",
      "Validation score: 0.725000\n",
      "Iteration 4, loss = 0.59194515\n",
      "Validation score: 0.725000\n",
      "Validation score did not improve more than tol=0.000100 for two consecutive epochs. Stopping.\n",
      "0.74\n",
      "Iteration 1, loss = 0.62807987\n",
      "Validation score: 0.725000\n",
      "Iteration 2, loss = 0.60103261\n",
      "Validation score: 0.725000\n",
      "Iteration 3, loss = 0.59101793\n",
      "Validation score: 0.725000\n",
      "Iteration 4, loss = 0.58082244\n",
      "Validation score: 0.725000\n",
      "Validation score did not improve more than tol=0.000100 for two consecutive epochs. Stopping.\n",
      "0.735\n",
      "Iteration 1, loss = 0.65100964\n",
      "Validation score: 0.711111\n",
      "Iteration 2, loss = 0.60540616\n",
      "Validation score: 0.711111\n",
      "Iteration 3, loss = 0.59626203\n",
      "Validation score: 0.711111\n",
      "Iteration 4, loss = 0.58874191\n",
      "Validation score: 0.711111\n",
      "Validation score did not improve more than tol=0.000100 for two consecutive epochs. Stopping.\n",
      "0.705\n",
      "Iteration 1, loss = 0.62615219\n",
      "Validation score: 0.733333\n",
      "Iteration 2, loss = 0.60409644\n",
      "Validation score: 0.733333\n",
      "Iteration 3, loss = 0.59285082\n",
      "Validation score: 0.733333\n",
      "Iteration 4, loss = 0.58236843\n",
      "Validation score: 0.733333\n",
      "Validation score did not improve more than tol=0.000100 for two consecutive epochs. Stopping.\n",
      "0.7575\n",
      "Iteration 1, loss = 0.62119561\n",
      "Validation score: 0.744444\n",
      "Iteration 2, loss = 0.59877462\n",
      "Validation score: 0.744444\n",
      "Iteration 3, loss = 0.58570146\n",
      "Validation score: 0.744444\n",
      "Iteration 4, loss = 0.57138937\n",
      "Validation score: 0.747222\n",
      "Iteration 5, loss = 0.55631929\n",
      "Validation score: 0.747222\n",
      "Iteration 6, loss = 0.54319638\n",
      "Validation score: 0.750000\n",
      "Iteration 7, loss = 0.52989201\n",
      "Validation score: 0.755556\n",
      "Iteration 8, loss = 0.51722391\n",
      "Validation score: 0.761111\n",
      "Iteration 9, loss = 0.50602783\n",
      "Validation score: 0.766667\n",
      "Iteration 10, loss = 0.49747886\n",
      "Validation score: 0.775000\n",
      "Iteration 11, loss = 0.49040445\n",
      "Validation score: 0.775000\n",
      "Iteration 12, loss = 0.48252270\n",
      "Validation score: 0.800000\n",
      "Iteration 13, loss = 0.47789945\n",
      "Validation score: 0.788889\n",
      "Iteration 14, loss = 0.47410535\n",
      "Validation score: 0.797222\n",
      "Iteration 15, loss = 0.47027199\n",
      "Validation score: 0.800000\n",
      "Validation score did not improve more than tol=0.000100 for two consecutive epochs. Stopping.\n",
      "0.765\n"
     ]
    }
   ],
   "source": [
    "# MLP : semplice e si allena in fretta -- alcuni accorgimenti sui parametri \n",
    "\n",
    "mlpClf = MLPClassifier(solver = 'adam', activation= 'relu' ,alpha = 0.05, verbose = True, early_stopping = True,\n",
    "                         learning_rate = 'invscaling', max_iter = 400)\n",
    "\n",
    "# Cross validation - 10 Fold \n",
    "kf = KFold(n_splits = 10)\n",
    "\n",
    "for train_indices, test_indices in kf.split(x_train):\n",
    "    mlpClf.fit(x_train[train_indices], y_train[train_indices])\n",
    "    print(mlpClf.score(x_train[test_indices], y_train[test_indices]))\n"
   ]
  },
  {
   "cell_type": "code",
   "execution_count": 8,
   "metadata": {},
   "outputs": [],
   "source": [
    "y_score = mlpClf.predict_proba(x_validation)[:,1]"
   ]
  },
  {
   "cell_type": "code",
   "execution_count": 9,
   "metadata": {},
   "outputs": [
    {
     "data": {
      "image/png": "[encoded data removed]",
      "text/plain": [
       "<Figure size 432x288 with 1 Axes>"
      ]
     },
     "metadata": {},
     "output_type": "display_data"
    }
   ],
   "source": [
    "# Roc Curve for validation data \n",
    "\n",
    "# Utilizziamo la metrica roc perchè avremo la stessa nell'upload della sfida \n",
    "\n",
    "from sklearn.metrics import roc_curve, auc\n",
    "fpr, tpr, thresholds = roc_curve(y_validation, y_score)\n",
    "roc_auc = auc(fpr, tpr) \n",
    "\n",
    "plt.figure()\n",
    "lw = 2\n",
    "plt.plot(fpr, tpr, color='darkorange',\n",
    "         lw=lw, label='ROC curve (area = %0.4f)'% roc_auc )\n",
    "\n",
    "plt.plot([0, 1], [0, 1], color='navy', lw=lw, linestyle='--')\n",
    "plt.xlim([0.0, 1.0])\n",
    "plt.ylim([0.0, 1.05])\n",
    "plt.xlabel('False Positive Rate')\n",
    "plt.ylabel('True Positive Rate')\n",
    "plt.title('Receiver operating characteristic example')\n",
    "plt.legend(loc=\"lower right\")\n",
    "plt.show()"
   ]
  },
  {
   "cell_type": "code",
   "execution_count": 10,
   "metadata": {},
   "outputs": [],
   "source": [
    "score = pd.DataFrame({\"y_validation\":y_validation, \"W2VGender\":y_score})"
   ]
  },
  {
   "cell_type": "code",
   "execution_count": 11,
   "metadata": {},
   "outputs": [],
   "source": [
    "score.to_csv('scoreW2VAugValidation.csv')"
   ]
  },
  {
   "cell_type": "markdown",
   "metadata": {},
   "source": [
    "# Test Set "
   ]
  },
  {
   "cell_type": "code",
   "execution_count": 12,
   "metadata": {},
   "outputs": [],
   "source": [
    "test_data_prob = pd.read_pickle('TestW2VXAuthorNoBody.csv')"
   ]
  },
  {
   "cell_type": "code",
   "execution_count": 23,
   "metadata": {},
   "outputs": [
    {
     "name": "stdout",
     "output_type": "stream",
     "text": [
      "15000\n"
     ]
    },
    {
     "data": {
      "text/html": [
       "<div>\n",
       "<style scoped>\n",
       "    .dataframe tbody tr th:only-of-type {\n",
       "        vertical-align: middle;\n",
       "    }\n",
       "\n",
       "    .dataframe tbody tr th {\n",
       "        vertical-align: top;\n",
       "    }\n",
       "\n",
       "    .dataframe thead th {\n",
       "        text-align: right;\n",
       "    }\n",
       "</style>\n",
       "<table border=\"1\" class=\"dataframe\">\n",
       "  <thead>\n",
       "    <tr style=\"text-align: right;\">\n",
       "      <th></th>\n",
       "      <th>author</th>\n",
       "      <th>sentences</th>\n",
       "    </tr>\n",
       "  </thead>\n",
       "  <tbody>\n",
       "    <tr>\n",
       "      <th>0</th>\n",
       "      <td>ejchristian86</td>\n",
       "      <td>[-0.037951056, -0.14019315, -0.06349655, 0.064...</td>\n",
       "    </tr>\n",
       "    <tr>\n",
       "      <th>1</th>\n",
       "      <td>ZenDragon</td>\n",
       "      <td>[-0.017164167, -0.1381231, -0.08678613, 0.0696...</td>\n",
       "    </tr>\n",
       "    <tr>\n",
       "      <th>2</th>\n",
       "      <td>savoytruffle</td>\n",
       "      <td>[-0.041860316, -0.1620547, -0.05505575, 0.0649...</td>\n",
       "    </tr>\n",
       "    <tr>\n",
       "      <th>3</th>\n",
       "      <td>hentercenter</td>\n",
       "      <td>[-0.037720606, -0.13322686, -0.058957513, 0.06...</td>\n",
       "    </tr>\n",
       "    <tr>\n",
       "      <th>4</th>\n",
       "      <td>rick-o-suave</td>\n",
       "      <td>[-0.024876451, -0.17049082, -0.049554985, 0.08...</td>\n",
       "    </tr>\n",
       "  </tbody>\n",
       "</table>\n",
       "</div>"
      ],
      "text/plain": [
       "          author                                          sentences\n",
       "0  ejchristian86  [-0.037951056, -0.14019315, -0.06349655, 0.064...\n",
       "1      ZenDragon  [-0.017164167, -0.1381231, -0.08678613, 0.0696...\n",
       "2   savoytruffle  [-0.041860316, -0.1620547, -0.05505575, 0.0649...\n",
       "3   hentercenter  [-0.037720606, -0.13322686, -0.058957513, 0.06...\n",
       "4   rick-o-suave  [-0.024876451, -0.17049082, -0.049554985, 0.08..."
      ]
     },
     "execution_count": 23,
     "metadata": {},
     "output_type": "execute_result"
    }
   ],
   "source": [
    "print (test_data_prob.shape[0])\n",
    "test_data_prob.head()"
   ]
  },
  {
   "cell_type": "code",
   "execution_count": 14,
   "metadata": {},
   "outputs": [],
   "source": [
    "listofzeros = [0]*200"
   ]
  },
  {
   "cell_type": "code",
   "execution_count": 15,
   "metadata": {},
   "outputs": [],
   "source": [
    "# Problemi con emojis --> erano rimasti dei commenti vuoti che davano errore \n",
    "\n",
    "test_data_prob.sentences[11377] = listofzeros\n",
    "test_data_prob.sentences[11460] = listofzeros\n",
    "test_data_prob.sentences[12941] = listofzeros\n",
    "test_data_prob.sentences[13161] = listofzeros\n",
    "test_data_prob.sentences[14152] = listofzeros"
   ]
  },
  {
   "cell_type": "code",
   "execution_count": 16,
   "metadata": {},
   "outputs": [],
   "source": [
    "X_test = np.array(list(map(np.array, test_data_prob.sentences)))"
   ]
  },
  {
   "cell_type": "code",
   "execution_count": 17,
   "metadata": {},
   "outputs": [
    {
     "data": {
      "text/plain": [
       "(array([], dtype=int64),)"
      ]
     },
     "execution_count": 17,
     "metadata": {},
     "output_type": "execute_result"
    }
   ],
   "source": [
    "np.where(pd.isnull(test_data_prob.sentences))"
   ]
  },
  {
   "cell_type": "code",
   "execution_count": 18,
   "metadata": {},
   "outputs": [],
   "source": [
    "y_scoreTest = mlpClf.predict_proba(X_test)[:,1]"
   ]
  },
  {
   "cell_type": "code",
   "execution_count": 19,
   "metadata": {},
   "outputs": [],
   "source": [
    "y_scoreTest[11377] = 0.5\n",
    "y_scoreTest[11460] = 0.5\n",
    "y_scoreTest[12941] = 0.5\n",
    "y_scoreTest[13161] = 0.5\n",
    "y_scoreTest[14152] = 0.5"
   ]
  },
  {
   "cell_type": "code",
   "execution_count": 20,
   "metadata": {},
   "outputs": [],
   "source": [
    "solutionW2V = pd.DataFrame({\"author\":test_data_prob.author, \"W2VGender\":y_scoreTest})"
   ]
  },
  {
   "cell_type": "code",
   "execution_count": 21,
   "metadata": {},
   "outputs": [
    {
     "data": {
      "text/html": [
       "<div>\n",
       "<style scoped>\n",
       "    .dataframe tbody tr th:only-of-type {\n",
       "        vertical-align: middle;\n",
       "    }\n",
       "\n",
       "    .dataframe tbody tr th {\n",
       "        vertical-align: top;\n",
       "    }\n",
       "\n",
       "    .dataframe thead th {\n",
       "        text-align: right;\n",
       "    }\n",
       "</style>\n",
       "<table border=\"1\" class=\"dataframe\">\n",
       "  <thead>\n",
       "    <tr style=\"text-align: right;\">\n",
       "      <th></th>\n",
       "      <th>author</th>\n",
       "      <th>W2VGender</th>\n",
       "    </tr>\n",
       "  </thead>\n",
       "  <tbody>\n",
       "    <tr>\n",
       "      <th>0</th>\n",
       "      <td>ejchristian86</td>\n",
       "      <td>0.378125</td>\n",
       "    </tr>\n",
       "    <tr>\n",
       "      <th>1</th>\n",
       "      <td>ZenDragon</td>\n",
       "      <td>0.107748</td>\n",
       "    </tr>\n",
       "    <tr>\n",
       "      <th>2</th>\n",
       "      <td>savoytruffle</td>\n",
       "      <td>0.239868</td>\n",
       "    </tr>\n",
       "    <tr>\n",
       "      <th>3</th>\n",
       "      <td>hentercenter</td>\n",
       "      <td>0.287511</td>\n",
       "    </tr>\n",
       "    <tr>\n",
       "      <th>4</th>\n",
       "      <td>rick-o-suave</td>\n",
       "      <td>0.119092</td>\n",
       "    </tr>\n",
       "  </tbody>\n",
       "</table>\n",
       "</div>"
      ],
      "text/plain": [
       "          author  W2VGender\n",
       "0  ejchristian86   0.378125\n",
       "1      ZenDragon   0.107748\n",
       "2   savoytruffle   0.239868\n",
       "3   hentercenter   0.287511\n",
       "4   rick-o-suave   0.119092"
      ]
     },
     "execution_count": 21,
     "metadata": {},
     "output_type": "execute_result"
    }
   ],
   "source": [
    "solutionW2V.head()"
   ]
  },
  {
   "cell_type": "code",
   "execution_count": 22,
   "metadata": {},
   "outputs": [],
   "source": [
    "solutionW2V.to_csv('solutionW2V.csv')"
   ]
  },
  {
   "cell_type": "code",
   "execution_count": null,
   "metadata": {},
   "outputs": [],
   "source": []
  }
 ],
 "metadata": {
  "kernelspec": {
   "display_name": "Python 3",
   "language": "python",
   "name": "python3"
  },
  "language_info": {
   "codemirror_mode": {
    "name": "ipython",
    "version": 3
   },
   "file_extension": ".py",
   "mimetype": "text/x-python",
   "name": "python",
   "nbconvert_exporter": "python",
   "pygments_lexer": "ipython3",
   "version": "3.7.0"
  }
 },
 "nbformat": 4,
 "nbformat_minor": 1
}
