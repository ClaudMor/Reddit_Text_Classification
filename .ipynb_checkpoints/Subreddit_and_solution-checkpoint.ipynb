{
 "cells": [
  {
   "cell_type": "markdown",
   "metadata": {},
   "source": [
    "# Data Mining Challange: *Reddit Gender Classification*"
   ]
  },
  {
   "cell_type": "markdown",
   "metadata": {},
   "source": [
    "## Modules"
   ]
  },
  {
   "cell_type": "code",
   "execution_count": 6,
   "metadata": {},
   "outputs": [
    {
     "name": "stdout",
     "output_type": "stream",
     "text": [
      "Populating the interactive namespace from numpy and matplotlib\n"
     ]
    }
   ],
   "source": [
    "# Numpy & matplotlib for notebooks \n",
    "%pylab inline\n",
    "\n",
    "# Pandas for data analysis and manipulation \n",
    "import pandas as pd \n",
    "\n",
    "# Sparse matrix package for numeric data.\n",
    "from scipy import sparse\n",
    "\n",
    "# Module for word embedding (word2vector)\n",
    "import gensim  \n",
    "\n",
    "# Module for progress monitoring\n",
    "import tqdm   \n",
    "\n",
    "# Sklearn \n",
    "from sklearn.preprocessing import StandardScaler # to standardize features by removing the mean and scaling to unit variance (z=(x-u)/s)\n",
    "from sklearn.neural_network import MLPClassifier # Multi-layer Perceptron classifier which optimizes the log-loss function using LBFGS or sdg.\n",
    "from sklearn.model_selection import train_test_split # to split arrays or matrices into random train and test subsets\n",
    "from sklearn.model_selection import KFold # K-Folds cross-validator providing train/test indices to split data in train/test sets. "
   ]
  },
  {
   "cell_type": "markdown",
   "metadata": {},
   "source": [
    "## Data Collection "
   ]
  },
  {
   "cell_type": "code",
   "execution_count": 7,
   "metadata": {},
   "outputs": [],
   "source": [
    "# Import the training dataset\n",
    "train_data = pd.read_csv(\"data/train_data.csv\", encoding=\"utf8\") \n",
    "\n",
    "# Import the training target\n",
    "train_target = pd.read_csv(\"data/train_target.csv\") "
   ]
  },
  {
   "cell_type": "markdown",
   "metadata": {},
   "source": [
    "## Feature Extraction"
   ]
  },
  {
   "cell_type": "code",
   "execution_count": 8,
   "metadata": {},
   "outputs": [],
   "source": [
    "# Crate a features dictionary\n",
    "features = {}  \n",
    "\n",
    "# Index unique subreddits/topics \n",
    "\n",
    "subreddits = train_data.subreddit.unique()   \n",
    "subreddits_series = pd.Series(index=subreddits, data=arange(subreddits.shape[0])) \n",
    "\n",
    "# Define a function to extract features from categorical data and store them in a CSR matrix\n",
    "def extract_features(category): \n",
    "    # np.array of subreddit labels \n",
    "    labels = subreddits_series[category['subreddit'].values].values        \n",
    "    # construct a  (1)x(#subreddits) sparse matrix incrementally\n",
    "    sparse_matrix = sparse.dok_matrix((1, subreddits.shape[0]))\n",
    "    # for all NaN labels assign 1 to sparse_matrix\n",
    "    for label in labels:\n",
    "        if not np.isnan(label): \n",
    "            sparse_matrix[0, label] = 1\n",
    "    # convert in CSR format \n",
    "    return sparse_matrix.tocsr()"
   ]
  },
  {
   "cell_type": "code",
   "execution_count": 9,
   "metadata": {},
   "outputs": [],
   "source": [
    "# Populate the features dictionary with keys (\"authors\") and values (\"sparse_matrix\")\n",
    "for author, category in train_data.groupby('author'):\n",
    "    features[author] = extract_features(category) "
   ]
  },
  {
   "cell_type": "code",
   "execution_count": 62,
   "metadata": {},
   "outputs": [],
   "source": [
    "# Vertically stack features by (target) author and store in X\n",
    "X = sparse.vstack([features[author] for author in train_target.author])\n",
    "\n",
    "# Vertically stack gender by (target) author and store in Y\n",
    "y = train_target.gender"
   ]
  },
  {
   "cell_type": "code",
   "execution_count": 63,
   "metadata": {},
   "outputs": [
    {
     "ename": "Exception",
     "evalue": "Data must be 1-dimensional",
     "output_type": "error",
     "traceback": [
      "\u001b[0;31m---------------------------------------------------------------------------\u001b[0m",
      "\u001b[0;31mException\u001b[0m                                 Traceback (most recent call last)",
      "\u001b[0;32m<ipython-input-63-7dfa1eca3bc7>\u001b[0m in \u001b[0;36m<module>\u001b[0;34m\u001b[0m\n\u001b[1;32m      4\u001b[0m \u001b[0;31m# map(function_to_apply, list_of_inputs) --> applies a function to all the items in an input_list\u001b[0m\u001b[0;34m\u001b[0m\u001b[0;34m\u001b[0m\u001b[0;34m\u001b[0m\u001b[0m\n\u001b[1;32m      5\u001b[0m \u001b[0;34m\u001b[0m\u001b[0m\n\u001b[0;32m----> 6\u001b[0;31m \u001b[0mX_df\u001b[0m \u001b[0;34m=\u001b[0m \u001b[0mpd\u001b[0m\u001b[0;34m.\u001b[0m\u001b[0mDataFrame\u001b[0m\u001b[0;34m(\u001b[0m\u001b[0;34m{\u001b[0m\u001b[0;34m\"X\"\u001b[0m\u001b[0;34m:\u001b[0m \u001b[0mX\u001b[0m\u001b[0;34m}\u001b[0m\u001b[0;34m,\u001b[0m \u001b[0mindex\u001b[0m \u001b[0;34m=\u001b[0m \u001b[0mlist\u001b[0m\u001b[0;34m(\u001b[0m\u001b[0mrange\u001b[0m\u001b[0;34m(\u001b[0m\u001b[0mlen\u001b[0m\u001b[0;34m(\u001b[0m\u001b[0mX\u001b[0m\u001b[0;34m)\u001b[0m\u001b[0;34m)\u001b[0m\u001b[0;34m)\u001b[0m\u001b[0;34m)\u001b[0m\u001b[0;34m\u001b[0m\u001b[0;34m\u001b[0m\u001b[0m\n\u001b[0m\u001b[1;32m      7\u001b[0m \u001b[0mprint\u001b[0m\u001b[0;34m(\u001b[0m\u001b[0mX_df\u001b[0m\u001b[0;34m)\u001b[0m\u001b[0;34m\u001b[0m\u001b[0;34m\u001b[0m\u001b[0m\n\u001b[1;32m      8\u001b[0m \u001b[0;34m\u001b[0m\u001b[0m\n",
      "\u001b[0;32m~/opt/anaconda3/lib/python3.7/site-packages/pandas/core/frame.py\u001b[0m in \u001b[0;36m__init__\u001b[0;34m(self, data, index, columns, dtype, copy)\u001b[0m\n\u001b[1;32m    409\u001b[0m             )\n\u001b[1;32m    410\u001b[0m         \u001b[0;32melif\u001b[0m \u001b[0misinstance\u001b[0m\u001b[0;34m(\u001b[0m\u001b[0mdata\u001b[0m\u001b[0;34m,\u001b[0m \u001b[0mdict\u001b[0m\u001b[0;34m)\u001b[0m\u001b[0;34m:\u001b[0m\u001b[0;34m\u001b[0m\u001b[0;34m\u001b[0m\u001b[0m\n\u001b[0;32m--> 411\u001b[0;31m             \u001b[0mmgr\u001b[0m \u001b[0;34m=\u001b[0m \u001b[0minit_dict\u001b[0m\u001b[0;34m(\u001b[0m\u001b[0mdata\u001b[0m\u001b[0;34m,\u001b[0m \u001b[0mindex\u001b[0m\u001b[0;34m,\u001b[0m \u001b[0mcolumns\u001b[0m\u001b[0;34m,\u001b[0m \u001b[0mdtype\u001b[0m\u001b[0;34m=\u001b[0m\u001b[0mdtype\u001b[0m\u001b[0;34m)\u001b[0m\u001b[0;34m\u001b[0m\u001b[0;34m\u001b[0m\u001b[0m\n\u001b[0m\u001b[1;32m    412\u001b[0m         \u001b[0;32melif\u001b[0m \u001b[0misinstance\u001b[0m\u001b[0;34m(\u001b[0m\u001b[0mdata\u001b[0m\u001b[0;34m,\u001b[0m \u001b[0mma\u001b[0m\u001b[0;34m.\u001b[0m\u001b[0mMaskedArray\u001b[0m\u001b[0;34m)\u001b[0m\u001b[0;34m:\u001b[0m\u001b[0;34m\u001b[0m\u001b[0;34m\u001b[0m\u001b[0m\n\u001b[1;32m    413\u001b[0m             \u001b[0;32mimport\u001b[0m \u001b[0mnumpy\u001b[0m\u001b[0;34m.\u001b[0m\u001b[0mma\u001b[0m\u001b[0;34m.\u001b[0m\u001b[0mmrecords\u001b[0m \u001b[0;32mas\u001b[0m \u001b[0mmrecords\u001b[0m\u001b[0;34m\u001b[0m\u001b[0;34m\u001b[0m\u001b[0m\n",
      "\u001b[0;32m~/opt/anaconda3/lib/python3.7/site-packages/pandas/core/internals/construction.py\u001b[0m in \u001b[0;36minit_dict\u001b[0;34m(data, index, columns, dtype)\u001b[0m\n\u001b[1;32m    255\u001b[0m             \u001b[0marr\u001b[0m \u001b[0;32mif\u001b[0m \u001b[0;32mnot\u001b[0m \u001b[0mis_datetime64tz_dtype\u001b[0m\u001b[0;34m(\u001b[0m\u001b[0marr\u001b[0m\u001b[0;34m)\u001b[0m \u001b[0;32melse\u001b[0m \u001b[0marr\u001b[0m\u001b[0;34m.\u001b[0m\u001b[0mcopy\u001b[0m\u001b[0;34m(\u001b[0m\u001b[0;34m)\u001b[0m \u001b[0;32mfor\u001b[0m \u001b[0marr\u001b[0m \u001b[0;32min\u001b[0m \u001b[0marrays\u001b[0m\u001b[0;34m\u001b[0m\u001b[0;34m\u001b[0m\u001b[0m\n\u001b[1;32m    256\u001b[0m         ]\n\u001b[0;32m--> 257\u001b[0;31m     \u001b[0;32mreturn\u001b[0m \u001b[0marrays_to_mgr\u001b[0m\u001b[0;34m(\u001b[0m\u001b[0marrays\u001b[0m\u001b[0;34m,\u001b[0m \u001b[0mdata_names\u001b[0m\u001b[0;34m,\u001b[0m \u001b[0mindex\u001b[0m\u001b[0;34m,\u001b[0m \u001b[0mcolumns\u001b[0m\u001b[0;34m,\u001b[0m \u001b[0mdtype\u001b[0m\u001b[0;34m=\u001b[0m\u001b[0mdtype\u001b[0m\u001b[0;34m)\u001b[0m\u001b[0;34m\u001b[0m\u001b[0;34m\u001b[0m\u001b[0m\n\u001b[0m\u001b[1;32m    258\u001b[0m \u001b[0;34m\u001b[0m\u001b[0m\n\u001b[1;32m    259\u001b[0m \u001b[0;34m\u001b[0m\u001b[0m\n",
      "\u001b[0;32m~/opt/anaconda3/lib/python3.7/site-packages/pandas/core/internals/construction.py\u001b[0m in \u001b[0;36marrays_to_mgr\u001b[0;34m(arrays, arr_names, index, columns, dtype)\u001b[0m\n\u001b[1;32m     80\u001b[0m \u001b[0;34m\u001b[0m\u001b[0m\n\u001b[1;32m     81\u001b[0m     \u001b[0;31m# don't force copy because getting jammed in an ndarray anyway\u001b[0m\u001b[0;34m\u001b[0m\u001b[0;34m\u001b[0m\u001b[0;34m\u001b[0m\u001b[0m\n\u001b[0;32m---> 82\u001b[0;31m     \u001b[0marrays\u001b[0m \u001b[0;34m=\u001b[0m \u001b[0m_homogenize\u001b[0m\u001b[0;34m(\u001b[0m\u001b[0marrays\u001b[0m\u001b[0;34m,\u001b[0m \u001b[0mindex\u001b[0m\u001b[0;34m,\u001b[0m \u001b[0mdtype\u001b[0m\u001b[0;34m)\u001b[0m\u001b[0;34m\u001b[0m\u001b[0;34m\u001b[0m\u001b[0m\n\u001b[0m\u001b[1;32m     83\u001b[0m \u001b[0;34m\u001b[0m\u001b[0m\n\u001b[1;32m     84\u001b[0m     \u001b[0;31m# from BlockManager perspective\u001b[0m\u001b[0;34m\u001b[0m\u001b[0;34m\u001b[0m\u001b[0;34m\u001b[0m\u001b[0m\n",
      "\u001b[0;32m~/opt/anaconda3/lib/python3.7/site-packages/pandas/core/internals/construction.py\u001b[0m in \u001b[0;36m_homogenize\u001b[0;34m(data, index, dtype)\u001b[0m\n\u001b[1;32m    321\u001b[0m                 \u001b[0mval\u001b[0m \u001b[0;34m=\u001b[0m \u001b[0mlib\u001b[0m\u001b[0;34m.\u001b[0m\u001b[0mfast_multiget\u001b[0m\u001b[0;34m(\u001b[0m\u001b[0mval\u001b[0m\u001b[0;34m,\u001b[0m \u001b[0moindex\u001b[0m\u001b[0;34m.\u001b[0m\u001b[0mvalues\u001b[0m\u001b[0;34m,\u001b[0m \u001b[0mdefault\u001b[0m\u001b[0;34m=\u001b[0m\u001b[0mnp\u001b[0m\u001b[0;34m.\u001b[0m\u001b[0mnan\u001b[0m\u001b[0;34m)\u001b[0m\u001b[0;34m\u001b[0m\u001b[0;34m\u001b[0m\u001b[0m\n\u001b[1;32m    322\u001b[0m             val = sanitize_array(\n\u001b[0;32m--> 323\u001b[0;31m                 \u001b[0mval\u001b[0m\u001b[0;34m,\u001b[0m \u001b[0mindex\u001b[0m\u001b[0;34m,\u001b[0m \u001b[0mdtype\u001b[0m\u001b[0;34m=\u001b[0m\u001b[0mdtype\u001b[0m\u001b[0;34m,\u001b[0m \u001b[0mcopy\u001b[0m\u001b[0;34m=\u001b[0m\u001b[0;32mFalse\u001b[0m\u001b[0;34m,\u001b[0m \u001b[0mraise_cast_failure\u001b[0m\u001b[0;34m=\u001b[0m\u001b[0;32mFalse\u001b[0m\u001b[0;34m\u001b[0m\u001b[0;34m\u001b[0m\u001b[0m\n\u001b[0m\u001b[1;32m    324\u001b[0m             )\n\u001b[1;32m    325\u001b[0m \u001b[0;34m\u001b[0m\u001b[0m\n",
      "\u001b[0;32m~/opt/anaconda3/lib/python3.7/site-packages/pandas/core/internals/construction.py\u001b[0m in \u001b[0;36msanitize_array\u001b[0;34m(data, index, dtype, copy, raise_cast_failure)\u001b[0m\n\u001b[1;32m    727\u001b[0m     \u001b[0;32melif\u001b[0m \u001b[0msubarr\u001b[0m\u001b[0;34m.\u001b[0m\u001b[0mndim\u001b[0m \u001b[0;34m>\u001b[0m \u001b[0;36m1\u001b[0m\u001b[0;34m:\u001b[0m\u001b[0;34m\u001b[0m\u001b[0;34m\u001b[0m\u001b[0m\n\u001b[1;32m    728\u001b[0m         \u001b[0;32mif\u001b[0m \u001b[0misinstance\u001b[0m\u001b[0;34m(\u001b[0m\u001b[0mdata\u001b[0m\u001b[0;34m,\u001b[0m \u001b[0mnp\u001b[0m\u001b[0;34m.\u001b[0m\u001b[0mndarray\u001b[0m\u001b[0;34m)\u001b[0m\u001b[0;34m:\u001b[0m\u001b[0;34m\u001b[0m\u001b[0;34m\u001b[0m\u001b[0m\n\u001b[0;32m--> 729\u001b[0;31m             \u001b[0;32mraise\u001b[0m \u001b[0mException\u001b[0m\u001b[0;34m(\u001b[0m\u001b[0;34m\"Data must be 1-dimensional\"\u001b[0m\u001b[0;34m)\u001b[0m\u001b[0;34m\u001b[0m\u001b[0;34m\u001b[0m\u001b[0m\n\u001b[0m\u001b[1;32m    730\u001b[0m         \u001b[0;32melse\u001b[0m\u001b[0;34m:\u001b[0m\u001b[0;34m\u001b[0m\u001b[0;34m\u001b[0m\u001b[0m\n\u001b[1;32m    731\u001b[0m             \u001b[0msubarr\u001b[0m \u001b[0;34m=\u001b[0m \u001b[0mcom\u001b[0m\u001b[0;34m.\u001b[0m\u001b[0masarray_tuplesafe\u001b[0m\u001b[0;34m(\u001b[0m\u001b[0mdata\u001b[0m\u001b[0;34m,\u001b[0m \u001b[0mdtype\u001b[0m\u001b[0;34m=\u001b[0m\u001b[0mdtype\u001b[0m\u001b[0;34m)\u001b[0m\u001b[0;34m\u001b[0m\u001b[0;34m\u001b[0m\u001b[0m\n",
      "\u001b[0;31mException\u001b[0m: Data must be 1-dimensional"
     ]
    }
   ],
   "source": [
    "X_array = X.toarray()\n",
    "X = np.array(list(map(np.array, X_array)))     \n",
    "y = np.array(list(map(np.array, y)))\n",
    "# map(function_to_apply, list_of_inputs) --> applies a function to all the items in an input_list\n",
    "\n",
    "seed = 2000\n",
    "x_train , x_validation, y_train , y_validation = train_test_split(X, y, test_size = 1000, random_state = seed)"
   ]
  },
  {
   "cell_type": "markdown",
   "metadata": {},
   "source": [
    "## Model Selection: *Multi-Layer Perceptron (MLP)*"
   ]
  },
  {
   "cell_type": "markdown",
   "metadata": {},
   "source": [
    "### Model Training & Validation"
   ]
  },
  {
   "cell_type": "code",
   "execution_count": 35,
   "metadata": {
    "collapsed": true,
    "jupyter": {
     "outputs_hidden": true
    }
   },
   "outputs": [
    {
     "name": "stdout",
     "output_type": "stream",
     "text": [
      "Iteration 1, loss = 0.65086519\n",
      "Validation score: 0.755556\n",
      "Iteration 2, loss = 0.52634454\n",
      "Validation score: 0.791667\n",
      "Iteration 3, loss = 0.44994859\n",
      "Validation score: 0.833333\n",
      "Iteration 4, loss = 0.38497233\n",
      "Validation score: 0.850000\n",
      "Iteration 5, loss = 0.33788703\n",
      "Validation score: 0.852778\n",
      "Iteration 6, loss = 0.30322055\n",
      "Validation score: 0.850000\n",
      "Iteration 7, loss = 0.27860353\n",
      "Validation score: 0.852778\n",
      "Iteration 8, loss = 0.26017567\n",
      "Validation score: 0.850000\n",
      "Iteration 9, loss = 0.24558483\n",
      "Validation score: 0.841667\n",
      "Iteration 10, loss = 0.23425198\n",
      "Validation score: 0.838889\n",
      "Iteration 11, loss = 0.22497539\n",
      "Validation score: 0.836111\n",
      "Iteration 12, loss = 0.21728931\n",
      "Validation score: 0.830556\n",
      "Iteration 13, loss = 0.21014437\n",
      "Validation score: 0.830556\n",
      "Iteration 14, loss = 0.20376485\n",
      "Validation score: 0.830556\n",
      "Iteration 15, loss = 0.19867613\n",
      "Validation score: 0.833333\n",
      "Iteration 16, loss = 0.19457393\n",
      "Validation score: 0.836111\n",
      "Validation score did not improve more than tol=0.000100 for 10 consecutive epochs. Stopping.\n",
      "0.83\n",
      "Iteration 1, loss = 0.64957308\n",
      "Validation score: 0.747222\n",
      "Iteration 2, loss = 0.52871268\n",
      "Validation score: 0.791667\n",
      "Iteration 3, loss = 0.45140837\n",
      "Validation score: 0.838889\n",
      "Iteration 4, loss = 0.38732393\n",
      "Validation score: 0.855556\n",
      "Iteration 5, loss = 0.34017820\n",
      "Validation score: 0.869444\n",
      "Iteration 6, loss = 0.30670413\n",
      "Validation score: 0.866667\n",
      "Iteration 7, loss = 0.28231638\n",
      "Validation score: 0.869444\n",
      "Iteration 8, loss = 0.26420425\n",
      "Validation score: 0.869444\n",
      "Iteration 9, loss = 0.25002928\n",
      "Validation score: 0.877778\n",
      "Iteration 10, loss = 0.23838396\n",
      "Validation score: 0.872222\n",
      "Iteration 11, loss = 0.22916608\n",
      "Validation score: 0.869444\n",
      "Iteration 12, loss = 0.22166083\n",
      "Validation score: 0.866667\n",
      "Iteration 13, loss = 0.21514731\n",
      "Validation score: 0.863889\n",
      "Iteration 14, loss = 0.20921673\n",
      "Validation score: 0.861111\n",
      "Iteration 15, loss = 0.20395912\n",
      "Validation score: 0.861111\n",
      "Iteration 16, loss = 0.19910648\n",
      "Validation score: 0.861111\n",
      "Iteration 17, loss = 0.19522427\n",
      "Validation score: 0.855556\n",
      "Iteration 18, loss = 0.19176583\n",
      "Validation score: 0.850000\n",
      "Iteration 19, loss = 0.18863284\n",
      "Validation score: 0.852778\n",
      "Iteration 20, loss = 0.18524124\n",
      "Validation score: 0.850000\n",
      "Validation score did not improve more than tol=0.000100 for 10 consecutive epochs. Stopping.\n",
      "0.87\n",
      "Iteration 1, loss = 0.67591274\n",
      "Validation score: 0.766667\n",
      "Iteration 2, loss = 0.53432258\n",
      "Validation score: 0.802778\n",
      "Iteration 3, loss = 0.45131601\n",
      "Validation score: 0.836111\n",
      "Iteration 4, loss = 0.38510460\n",
      "Validation score: 0.841667\n",
      "Iteration 5, loss = 0.33753455\n",
      "Validation score: 0.844444\n",
      "Iteration 6, loss = 0.30350675\n",
      "Validation score: 0.847222\n",
      "Iteration 7, loss = 0.27863778\n",
      "Validation score: 0.852778\n",
      "Iteration 8, loss = 0.25984232\n",
      "Validation score: 0.858333\n",
      "Iteration 9, loss = 0.24511044\n",
      "Validation score: 0.855556\n",
      "Iteration 10, loss = 0.23369871\n",
      "Validation score: 0.850000\n",
      "Iteration 11, loss = 0.22366608\n",
      "Validation score: 0.850000\n",
      "Iteration 12, loss = 0.21575652\n",
      "Validation score: 0.852778\n",
      "Iteration 13, loss = 0.20860330\n",
      "Validation score: 0.852778\n",
      "Iteration 14, loss = 0.20229208\n",
      "Validation score: 0.847222\n",
      "Iteration 15, loss = 0.19753730\n",
      "Validation score: 0.844444\n",
      "Iteration 16, loss = 0.19267889\n",
      "Validation score: 0.841667\n",
      "Iteration 17, loss = 0.18896568\n",
      "Validation score: 0.838889\n",
      "Iteration 18, loss = 0.18482100\n",
      "Validation score: 0.838889\n",
      "Iteration 19, loss = 0.18158655\n",
      "Validation score: 0.833333\n",
      "Validation score did not improve more than tol=0.000100 for 10 consecutive epochs. Stopping.\n",
      "0.85\n",
      "Iteration 1, loss = 0.63699078\n",
      "Validation score: 0.727778\n",
      "Iteration 2, loss = 0.52175652\n",
      "Validation score: 0.752778\n",
      "Iteration 3, loss = 0.44994714\n",
      "Validation score: 0.808333\n",
      "Iteration 4, loss = 0.38767200\n",
      "Validation score: 0.838889\n",
      "Iteration 5, loss = 0.33962369\n",
      "Validation score: 0.844444\n",
      "Iteration 6, loss = 0.30468602\n",
      "Validation score: 0.844444\n",
      "Iteration 7, loss = 0.27979452\n",
      "Validation score: 0.847222\n",
      "Iteration 8, loss = 0.26089123\n",
      "Validation score: 0.850000\n",
      "Iteration 9, loss = 0.24615905\n",
      "Validation score: 0.838889\n",
      "Iteration 10, loss = 0.23442651\n",
      "Validation score: 0.841667\n",
      "Iteration 11, loss = 0.22459044\n",
      "Validation score: 0.844444\n",
      "Iteration 12, loss = 0.21603268\n",
      "Validation score: 0.844444\n",
      "Iteration 13, loss = 0.20911942\n",
      "Validation score: 0.841667\n",
      "Iteration 14, loss = 0.20335909\n",
      "Validation score: 0.844444\n",
      "Iteration 15, loss = 0.19807802\n",
      "Validation score: 0.847222\n",
      "Iteration 16, loss = 0.19334606\n",
      "Validation score: 0.841667\n",
      "Iteration 17, loss = 0.18958951\n",
      "Validation score: 0.844444\n",
      "Iteration 18, loss = 0.18537644\n",
      "Validation score: 0.836111\n",
      "Iteration 19, loss = 0.18210790\n",
      "Validation score: 0.838889\n",
      "Validation score did not improve more than tol=0.000100 for 10 consecutive epochs. Stopping.\n",
      "0.8575\n",
      "Iteration 1, loss = 0.63090259\n",
      "Validation score: 0.725000\n",
      "Iteration 2, loss = 0.52318519\n",
      "Validation score: 0.758333\n",
      "Iteration 3, loss = 0.45009389\n",
      "Validation score: 0.847222\n",
      "Iteration 4, loss = 0.38745928\n",
      "Validation score: 0.858333\n",
      "Iteration 5, loss = 0.34063369\n",
      "Validation score: 0.855556\n",
      "Iteration 6, loss = 0.30695220\n",
      "Validation score: 0.858333\n",
      "Iteration 7, loss = 0.28146511\n",
      "Validation score: 0.858333\n",
      "Iteration 8, loss = 0.26255544\n",
      "Validation score: 0.861111\n",
      "Iteration 9, loss = 0.24767322\n",
      "Validation score: 0.861111\n",
      "Iteration 10, loss = 0.23549197\n",
      "Validation score: 0.861111\n",
      "Iteration 11, loss = 0.22563168\n",
      "Validation score: 0.850000\n",
      "Iteration 12, loss = 0.21697160\n",
      "Validation score: 0.847222\n",
      "Iteration 13, loss = 0.20985760\n",
      "Validation score: 0.847222\n",
      "Iteration 14, loss = 0.20301836\n",
      "Validation score: 0.847222\n",
      "Iteration 15, loss = 0.19788126\n",
      "Validation score: 0.847222\n",
      "Iteration 16, loss = 0.19301821\n",
      "Validation score: 0.841667\n",
      "Iteration 17, loss = 0.18885766\n",
      "Validation score: 0.841667\n",
      "Iteration 18, loss = 0.18482866\n",
      "Validation score: 0.836111\n",
      "Iteration 19, loss = 0.18136648\n",
      "Validation score: 0.841667\n",
      "Validation score did not improve more than tol=0.000100 for 10 consecutive epochs. Stopping.\n",
      "0.8375\n",
      "Iteration 1, loss = 0.63015710\n",
      "Validation score: 0.722222\n",
      "Iteration 2, loss = 0.51948554\n",
      "Validation score: 0.755556\n",
      "Iteration 3, loss = 0.44170141\n",
      "Validation score: 0.822222\n",
      "Iteration 4, loss = 0.38061007\n",
      "Validation score: 0.838889\n",
      "Iteration 5, loss = 0.33617178\n",
      "Validation score: 0.847222\n",
      "Iteration 6, loss = 0.30439571\n",
      "Validation score: 0.850000\n",
      "Iteration 7, loss = 0.28096803\n",
      "Validation score: 0.850000\n",
      "Iteration 8, loss = 0.26233747\n",
      "Validation score: 0.858333\n",
      "Iteration 9, loss = 0.24789844\n",
      "Validation score: 0.858333\n",
      "Iteration 10, loss = 0.23600753\n",
      "Validation score: 0.858333\n",
      "Iteration 11, loss = 0.22633602\n",
      "Validation score: 0.861111\n",
      "Iteration 12, loss = 0.21758420\n",
      "Validation score: 0.852778\n",
      "Iteration 13, loss = 0.20984717\n",
      "Validation score: 0.858333\n",
      "Iteration 14, loss = 0.20355322\n",
      "Validation score: 0.861111\n",
      "Iteration 15, loss = 0.19782886\n",
      "Validation score: 0.858333\n",
      "Iteration 16, loss = 0.19301589\n",
      "Validation score: 0.852778\n",
      "Iteration 17, loss = 0.18870284\n",
      "Validation score: 0.852778\n",
      "Iteration 18, loss = 0.18492349\n",
      "Validation score: 0.852778\n",
      "Iteration 19, loss = 0.18155920\n",
      "Validation score: 0.852778\n",
      "Iteration 20, loss = 0.17817645\n",
      "Validation score: 0.844444\n",
      "Iteration 21, loss = 0.17527600\n",
      "Validation score: 0.844444\n",
      "Iteration 22, loss = 0.17259963\n",
      "Validation score: 0.844444\n",
      "Validation score did not improve more than tol=0.000100 for 10 consecutive epochs. Stopping.\n",
      "0.88\n",
      "Iteration 1, loss = 0.63508915\n",
      "Validation score: 0.738889\n",
      "Iteration 2, loss = 0.51422983\n",
      "Validation score: 0.777778\n",
      "Iteration 3, loss = 0.43448369\n",
      "Validation score: 0.819444\n",
      "Iteration 4, loss = 0.37118324\n",
      "Validation score: 0.838889\n",
      "Iteration 5, loss = 0.32597746\n",
      "Validation score: 0.838889\n",
      "Iteration 6, loss = 0.29464377\n",
      "Validation score: 0.844444\n",
      "Iteration 7, loss = 0.27198949\n",
      "Validation score: 0.841667\n",
      "Iteration 8, loss = 0.25434786\n",
      "Validation score: 0.847222\n",
      "Iteration 9, loss = 0.24119852\n",
      "Validation score: 0.850000\n",
      "Iteration 10, loss = 0.22980913\n",
      "Validation score: 0.847222\n",
      "Iteration 11, loss = 0.22094985\n",
      "Validation score: 0.844444\n",
      "Iteration 12, loss = 0.21301662\n",
      "Validation score: 0.844444\n",
      "Iteration 13, loss = 0.20662310\n",
      "Validation score: 0.841667\n",
      "Iteration 14, loss = 0.20101611\n",
      "Validation score: 0.838889\n",
      "Iteration 15, loss = 0.19534961\n",
      "Validation score: 0.838889\n",
      "Iteration 16, loss = 0.19078736\n",
      "Validation score: 0.841667\n",
      "Iteration 17, loss = 0.18703368\n",
      "Validation score: 0.841667\n",
      "Iteration 18, loss = 0.18361631\n",
      "Validation score: 0.841667\n",
      "Iteration 19, loss = 0.18005862\n",
      "Validation score: 0.838889\n",
      "Iteration 20, loss = 0.17757062\n",
      "Validation score: 0.838889\n",
      "Validation score did not improve more than tol=0.000100 for 10 consecutive epochs. Stopping.\n",
      "0.845\n",
      "Iteration 1, loss = 0.68858375\n",
      "Validation score: 0.713889\n",
      "Iteration 2, loss = 0.54154527\n",
      "Validation score: 0.791667\n",
      "Iteration 3, loss = 0.46027561\n",
      "Validation score: 0.819444\n",
      "Iteration 4, loss = 0.39231442\n",
      "Validation score: 0.838889\n",
      "Iteration 5, loss = 0.34415801\n",
      "Validation score: 0.838889\n",
      "Iteration 6, loss = 0.30926809\n",
      "Validation score: 0.844444\n",
      "Iteration 7, loss = 0.28281448\n",
      "Validation score: 0.838889\n",
      "Iteration 8, loss = 0.26337825\n",
      "Validation score: 0.841667\n",
      "Iteration 9, loss = 0.24769235\n",
      "Validation score: 0.841667\n",
      "Iteration 10, loss = 0.23550607\n",
      "Validation score: 0.838889\n",
      "Iteration 11, loss = 0.22537449\n",
      "Validation score: 0.841667\n",
      "Iteration 12, loss = 0.21680244\n",
      "Validation score: 0.844444\n",
      "Iteration 13, loss = 0.20923828\n",
      "Validation score: 0.838889\n",
      "Iteration 14, loss = 0.20300534\n",
      "Validation score: 0.836111\n",
      "Iteration 15, loss = 0.19746960\n",
      "Validation score: 0.833333\n",
      "Iteration 16, loss = 0.19257102\n",
      "Validation score: 0.836111\n",
      "Iteration 17, loss = 0.18821818\n",
      "Validation score: 0.836111\n",
      "Validation score did not improve more than tol=0.000100 for 10 consecutive epochs. Stopping.\n",
      "0.8625\n",
      "Iteration 1, loss = 0.63838128\n",
      "Validation score: 0.772222\n",
      "Iteration 2, loss = 0.52158292\n",
      "Validation score: 0.800000\n",
      "Iteration 3, loss = 0.44152722\n",
      "Validation score: 0.847222\n",
      "Iteration 4, loss = 0.37706619\n",
      "Validation score: 0.855556\n",
      "Iteration 5, loss = 0.33093315\n",
      "Validation score: 0.852778\n",
      "Iteration 6, loss = 0.29786017\n",
      "Validation score: 0.852778\n",
      "Iteration 7, loss = 0.27441914\n",
      "Validation score: 0.863889\n",
      "Iteration 8, loss = 0.25708916\n",
      "Validation score: 0.855556\n",
      "Iteration 9, loss = 0.24285837\n",
      "Validation score: 0.855556\n",
      "Iteration 10, loss = 0.23200560\n",
      "Validation score: 0.861111\n",
      "Iteration 11, loss = 0.22298320\n",
      "Validation score: 0.858333\n",
      "Iteration 12, loss = 0.21488588\n",
      "Validation score: 0.861111\n",
      "Iteration 13, loss = 0.20893970\n",
      "Validation score: 0.852778\n",
      "Iteration 14, loss = 0.20283102\n",
      "Validation score: 0.850000\n",
      "Iteration 15, loss = 0.19755945\n",
      "Validation score: 0.852778\n",
      "Iteration 16, loss = 0.19335456\n",
      "Validation score: 0.852778\n",
      "Iteration 17, loss = 0.18956250\n",
      "Validation score: 0.852778\n",
      "Iteration 18, loss = 0.18566428\n",
      "Validation score: 0.852778\n",
      "Validation score did not improve more than tol=0.000100 for 10 consecutive epochs. Stopping.\n",
      "0.8775\n",
      "Iteration 1, loss = 0.66229583\n",
      "Validation score: 0.741667\n",
      "Iteration 2, loss = 0.53941334\n",
      "Validation score: 0.769444\n",
      "Iteration 3, loss = 0.45997808\n",
      "Validation score: 0.802778\n",
      "Iteration 4, loss = 0.39328981\n",
      "Validation score: 0.836111\n",
      "Iteration 5, loss = 0.34328277\n",
      "Validation score: 0.841667\n",
      "Iteration 6, loss = 0.30749723\n",
      "Validation score: 0.844444\n",
      "Iteration 7, loss = 0.28087476\n",
      "Validation score: 0.836111\n",
      "Iteration 8, loss = 0.26069727\n",
      "Validation score: 0.838889\n",
      "Iteration 9, loss = 0.24460987\n",
      "Validation score: 0.836111\n",
      "Iteration 10, loss = 0.23211161\n",
      "Validation score: 0.841667\n",
      "Iteration 11, loss = 0.22133746\n",
      "Validation score: 0.833333\n",
      "Iteration 12, loss = 0.21261933\n",
      "Validation score: 0.830556\n",
      "Iteration 13, loss = 0.20527052\n",
      "Validation score: 0.827778\n",
      "Iteration 14, loss = 0.19890495\n",
      "Validation score: 0.827778\n",
      "Iteration 15, loss = 0.19325193\n",
      "Validation score: 0.836111\n",
      "Iteration 16, loss = 0.18827685\n",
      "Validation score: 0.833333\n",
      "Iteration 17, loss = 0.18412426\n",
      "Validation score: 0.830556\n",
      "Validation score did not improve more than tol=0.000100 for 10 consecutive epochs. Stopping.\n",
      "0.8475\n"
     ]
    }
   ],
   "source": [
    "model = MLPClassifier(hidden_layer_sizes= (100,), activation= \"relu\", solver= \"adam\",\n",
    "                      alpha= 0.05, learning_rate= \"invscaling\", learning_rate_init= 0.001,\n",
    "                      max_iter= 300, shuffle= True, tol= 1e-4, warm_start= False,\n",
    "                      early_stopping = True, verbose = True, n_iter_no_change= 10)\n",
    "\n",
    "# K fold per la cross-validation\n",
    "kf = KFold(n_splits = 10)\n",
    "\n",
    "# alleamento e validazione su tutti i KFold\n",
    "for train_indices, test_indices in kf.split(x_train):\n",
    "    model.fit(x_train[train_indices], y_train[train_indices])\n",
    "    print(model.score(x_train[test_indices], y_train[test_indices]))"
   ]
  },
  {
   "cell_type": "code",
   "execution_count": 36,
   "metadata": {},
   "outputs": [],
   "source": [
    "y_score = model.predict_proba(x_validation)[:,1]"
   ]
  },
  {
   "cell_type": "code",
   "execution_count": 37,
   "metadata": {},
   "outputs": [
    {
     "data": {
      "image/png": "[encoded data removed]",
      "text/plain": [
       "<Figure size 432x288 with 1 Axes>"
      ]
     },
     "metadata": {
      "needs_background": "light"
     },
     "output_type": "display_data"
    }
   ],
   "source": [
    "# ROC Curve for data validation \n",
    "from sklearn.metrics import roc_curve, auc\n",
    "fpr, tpr, thresholds = roc_curve(y_validation, y_score)\n",
    "roc_auc = auc(fpr, tpr) \n",
    "\n",
    "plt.figure()\n",
    "lw = 2\n",
    "plt.plot(fpr, tpr, color='darkorange',\n",
    "         lw=lw, label='ROC curve (area = %0.4f)'% roc_auc )\n",
    "\n",
    "plt.plot([0, 1], [0, 1], color='navy', lw=lw, linestyle='--')\n",
    "plt.xlim([0.0, 1.0])\n",
    "plt.ylim([0.0, 1.0])\n",
    "plt.xlabel('False Positive Rate')\n",
    "plt.ylabel('True Positive Rate')\n",
    "plt.title('Receiver Operating Characteristic')\n",
    "plt.legend(loc=\"lower right\")\n",
    "plt.show()"
   ]
  },
  {
   "cell_type": "markdown",
   "metadata": {},
   "source": [
    "## Logistic Regression "
   ]
  },
  {
   "cell_type": "code",
   "execution_count": 30,
   "metadata": {},
   "outputs": [],
   "source": [
    "#creo il dataframe con i risultati dell'analisidel subreddit:\n",
    "\n",
    "scoreXSparse = pd.DataFrame({\"y_validation\":y_validation, \"XSparseGender\":y_score})\n",
    "scoreXSparse.to_csv('scoreXSparseValidation.csv')"
   ]
  },
  {
   "cell_type": "code",
   "execution_count": 31,
   "metadata": {},
   "outputs": [],
   "source": [
    "#vado a riprendere i risultati dell'analisi dei subreddit\n",
    "scoreXSparse = pd.read_csv('scoreXSparseValidation.csv', index_col = 0)"
   ]
  },
  {
   "cell_type": "code",
   "execution_count": 32,
   "metadata": {},
   "outputs": [],
   "source": [
    "#risultati dell'analisi dei W2V\n",
    "scoreW2V = pd.read_csv('scoreW2VAugvalidation.csv', index_col= 0)"
   ]
  },
  {
   "cell_type": "code",
   "execution_count": 33,
   "metadata": {},
   "outputs": [],
   "source": [
    "#risultati tfidf\n",
    "scoreTfIdf = pd.read_csv('scoreTfIdfvalidation.csv', index_col= 0)"
   ]
  },
  {
   "cell_type": "code",
   "execution_count": 34,
   "metadata": {},
   "outputs": [
    {
     "name": "stdout",
     "output_type": "stream",
     "text": [
      "i validation set contengono tutti lo stesso numero di dati?\n",
      "1000\n",
      "1000\n",
      "1000\n"
     ]
    }
   ],
   "source": [
    "print (\"i validation set contengono tutti lo stesso numero di dati?\")\n",
    "print (scoreW2V.shape[0])\n",
    "print (scoreXSparse.shape[0])\n",
    "print (scoreTfIdf.shape[0])"
   ]
  },
  {
   "cell_type": "code",
   "execution_count": 35,
   "metadata": {},
   "outputs": [
    {
     "data": {
      "text/html": [
       "<div>\n",
       "<style scoped>\n",
       "    .dataframe tbody tr th:only-of-type {\n",
       "        vertical-align: middle;\n",
       "    }\n",
       "\n",
       "    .dataframe tbody tr th {\n",
       "        vertical-align: top;\n",
       "    }\n",
       "\n",
       "    .dataframe thead th {\n",
       "        text-align: right;\n",
       "    }\n",
       "</style>\n",
       "<table border=\"1\" class=\"dataframe\">\n",
       "  <thead>\n",
       "    <tr style=\"text-align: right;\">\n",
       "      <th></th>\n",
       "      <th>y_validation</th>\n",
       "      <th>XSparseGender</th>\n",
       "      <th>TfIdfGender</th>\n",
       "      <th>W2VGender</th>\n",
       "    </tr>\n",
       "  </thead>\n",
       "  <tbody>\n",
       "    <tr>\n",
       "      <td>0</td>\n",
       "      <td>0</td>\n",
       "      <td>0.650012</td>\n",
       "      <td>0.083454</td>\n",
       "      <td>0.224794</td>\n",
       "    </tr>\n",
       "    <tr>\n",
       "      <td>1</td>\n",
       "      <td>1</td>\n",
       "      <td>0.857151</td>\n",
       "      <td>0.538019</td>\n",
       "      <td>0.641778</td>\n",
       "    </tr>\n",
       "    <tr>\n",
       "      <td>2</td>\n",
       "      <td>0</td>\n",
       "      <td>0.000706</td>\n",
       "      <td>0.030947</td>\n",
       "      <td>0.147491</td>\n",
       "    </tr>\n",
       "    <tr>\n",
       "      <td>3</td>\n",
       "      <td>0</td>\n",
       "      <td>0.017923</td>\n",
       "      <td>0.010865</td>\n",
       "      <td>0.584504</td>\n",
       "    </tr>\n",
       "    <tr>\n",
       "      <td>4</td>\n",
       "      <td>0</td>\n",
       "      <td>0.130383</td>\n",
       "      <td>0.561025</td>\n",
       "      <td>0.624355</td>\n",
       "    </tr>\n",
       "  </tbody>\n",
       "</table>\n",
       "</div>"
      ],
      "text/plain": [
       "   y_validation  XSparseGender  TfIdfGender  W2VGender\n",
       "0             0       0.650012     0.083454   0.224794\n",
       "1             1       0.857151     0.538019   0.641778\n",
       "2             0       0.000706     0.030947   0.147491\n",
       "3             0       0.017923     0.010865   0.584504\n",
       "4             0       0.130383     0.561025   0.624355"
      ]
     },
     "execution_count": 35,
     "metadata": {},
     "output_type": "execute_result"
    }
   ],
   "source": [
    "#creo un dataframe unico\n",
    "scoreFinal = pd.DataFrame({\"y_validation\": scoreXSparse.y_validation, \"XSparseGender\": scoreXSparse.XSparseGender,\n",
    "                           \"TfIdfGender\": scoreTfIdf.TfIdfGender, \"W2VGender\": scoreW2V.W2VAugGender})\n",
    "\n",
    "scoreFinal.head()"
   ]
  },
  {
   "cell_type": "code",
   "execution_count": 36,
   "metadata": {},
   "outputs": [],
   "source": [
    "X = scoreFinal.iloc[:, 1:4]\n",
    "y = scoreFinal.y_validation"
   ]
  },
  {
   "cell_type": "code",
   "execution_count": 37,
   "metadata": {},
   "outputs": [],
   "source": [
    "SEED = 2000\n",
    "x_trainLR , x_validationLR, y_trainLR , y_validationLR = train_test_split(X, y, test_size = 0.2, \n",
    "                                                                 random_state = SEED)"
   ]
  },
  {
   "cell_type": "code",
   "execution_count": 38,
   "metadata": {},
   "outputs": [
    {
     "name": "stdout",
     "output_type": "stream",
     "text": [
      "0.9125\n",
      "0.9\n",
      "0.9\n",
      "0.8875\n",
      "0.8125\n",
      "0.8625\n",
      "0.85\n",
      "0.85\n",
      "0.9\n",
      "0.9375\n"
     ]
    },
    {
     "name": "stderr",
     "output_type": "stream",
     "text": [
      "/Users/pietromonticone/opt/anaconda3/lib/python3.7/site-packages/sklearn/linear_model/logistic.py:432: FutureWarning: Default solver will be changed to 'lbfgs' in 0.22. Specify a solver to silence this warning.\n",
      "  FutureWarning)\n",
      "/Users/pietromonticone/opt/anaconda3/lib/python3.7/site-packages/sklearn/linear_model/logistic.py:432: FutureWarning: Default solver will be changed to 'lbfgs' in 0.22. Specify a solver to silence this warning.\n",
      "  FutureWarning)\n",
      "/Users/pietromonticone/opt/anaconda3/lib/python3.7/site-packages/sklearn/linear_model/logistic.py:432: FutureWarning: Default solver will be changed to 'lbfgs' in 0.22. Specify a solver to silence this warning.\n",
      "  FutureWarning)\n",
      "/Users/pietromonticone/opt/anaconda3/lib/python3.7/site-packages/sklearn/linear_model/logistic.py:432: FutureWarning: Default solver will be changed to 'lbfgs' in 0.22. Specify a solver to silence this warning.\n",
      "  FutureWarning)\n",
      "/Users/pietromonticone/opt/anaconda3/lib/python3.7/site-packages/sklearn/linear_model/logistic.py:432: FutureWarning: Default solver will be changed to 'lbfgs' in 0.22. Specify a solver to silence this warning.\n",
      "  FutureWarning)\n",
      "/Users/pietromonticone/opt/anaconda3/lib/python3.7/site-packages/sklearn/linear_model/logistic.py:432: FutureWarning: Default solver will be changed to 'lbfgs' in 0.22. Specify a solver to silence this warning.\n",
      "  FutureWarning)\n",
      "/Users/pietromonticone/opt/anaconda3/lib/python3.7/site-packages/sklearn/linear_model/logistic.py:432: FutureWarning: Default solver will be changed to 'lbfgs' in 0.22. Specify a solver to silence this warning.\n",
      "  FutureWarning)\n",
      "/Users/pietromonticone/opt/anaconda3/lib/python3.7/site-packages/sklearn/linear_model/logistic.py:432: FutureWarning: Default solver will be changed to 'lbfgs' in 0.22. Specify a solver to silence this warning.\n",
      "  FutureWarning)\n",
      "/Users/pietromonticone/opt/anaconda3/lib/python3.7/site-packages/sklearn/linear_model/logistic.py:432: FutureWarning: Default solver will be changed to 'lbfgs' in 0.22. Specify a solver to silence this warning.\n",
      "  FutureWarning)\n",
      "/Users/pietromonticone/opt/anaconda3/lib/python3.7/site-packages/sklearn/linear_model/logistic.py:432: FutureWarning: Default solver will be changed to 'lbfgs' in 0.22. Specify a solver to silence this warning.\n",
      "  FutureWarning)\n"
     ]
    }
   ],
   "source": [
    "from sklearn.linear_model import LogisticRegression \n",
    "\n",
    "lrClf = LogisticRegression(C = 1)  #modello\n",
    "\n",
    "kf = KFold(n_splits = 10)          #Kfold percross-validation\n",
    "\n",
    "for train_indices, test_indices in kf.split(x_trainLR):    #allenamento\n",
    "    lrClf.fit(x_trainLR.iloc[train_indices], y_trainLR.iloc[train_indices])\n",
    "    print(lrClf.score(x_trainLR.iloc[test_indices], y_trainLR.iloc[test_indices]))"
   ]
  },
  {
   "cell_type": "code",
   "execution_count": 39,
   "metadata": {},
   "outputs": [
    {
     "data": {
      "text/plain": [
       "0.905"
      ]
     },
     "execution_count": 39,
     "metadata": {},
     "output_type": "execute_result"
    }
   ],
   "source": [
    "lrClf.score(x_validationLR, y_validationLR)"
   ]
  },
  {
   "cell_type": "code",
   "execution_count": 40,
   "metadata": {},
   "outputs": [],
   "source": [
    "y_scoreLR = lrClf.predict_proba(x_validationLR)[:,1]"
   ]
  },
  {
   "cell_type": "code",
   "execution_count": 41,
   "metadata": {},
   "outputs": [
    {
     "data": {
      "image/png": "[encoded data removed]",
      "text/plain": [
       "<Figure size 432x288 with 1 Axes>"
      ]
     },
     "metadata": {
      "needs_background": "light"
     },
     "output_type": "display_data"
    }
   ],
   "source": [
    "# ROC Curve for data validation \n",
    "from sklearn.metrics import roc_curve, auc\n",
    "fpr, tpr, thresholds = roc_curve(y_validationLR, y_scoreLR)\n",
    "roc_auc = auc(fpr, tpr) \n",
    "\n",
    "\n",
    "plt.figure()\n",
    "lw = 2\n",
    "plt.plot(fpr, tpr, color='darkorange',\n",
    "         lw=lw, label='ROC curve (area = %0.4f)'% roc_auc )\n",
    "\n",
    "\n",
    "plt.plot([0, 1], [0, 1], color='navy', lw=lw, linestyle='--')\n",
    "plt.xlim([0.0, 1.0])\n",
    "plt.ylim([0.0, 1.05])\n",
    "plt.xlabel('False Positive Rate')\n",
    "plt.ylabel('True Positive Rate')\n",
    "plt.title('Receiver Operating Characteristic')\n",
    "plt.legend(loc=\"lower right\")\n",
    "plt.show()"
   ]
  },
  {
   "cell_type": "markdown",
   "metadata": {},
   "source": [
    "# Prepare the solution"
   ]
  },
  {
   "cell_type": "markdown",
   "metadata": {},
   "source": [
    "### Test Set Setting for Subreddit Analysis"
   ]
  },
  {
   "cell_type": "code",
   "execution_count": 48,
   "metadata": {},
   "outputs": [],
   "source": [
    "test_data = pd.read_csv(\"data/test_data.csv\", encoding=\"utf8\")"
   ]
  },
  {
   "cell_type": "code",
   "execution_count": 49,
   "metadata": {},
   "outputs": [],
   "source": [
    "features_dict = {}\n",
    "\n",
    "for author, group in test_data.groupby('author'):\n",
    "    features_dict[author] = extract_features(group)"
   ]
  },
  {
   "cell_type": "code",
   "execution_count": 50,
   "metadata": {},
   "outputs": [
    {
     "data": {
      "text/plain": [
       "<15000x3468 sparse matrix of type '<class 'numpy.float64'>'\n",
       "\twith 144898 stored elements in Compressed Sparse Row format>"
      ]
     },
     "execution_count": 50,
     "metadata": {},
     "output_type": "execute_result"
    }
   ],
   "source": [
    "X_test = sparse.vstack([features_dict[author] for author in test_data.author.unique()])\n",
    "X_test"
   ]
  },
  {
   "cell_type": "code",
   "execution_count": 51,
   "metadata": {},
   "outputs": [],
   "source": [
    "y_predSub = model.predict_proba(X_test)[:,1]"
   ]
  },
  {
   "cell_type": "code",
   "execution_count": 52,
   "metadata": {},
   "outputs": [],
   "source": [
    "solution = pd.DataFrame({\"author\":test_data.author.unique(), \"genderSub\":y_predSub})"
   ]
  },
  {
   "cell_type": "markdown",
   "metadata": {},
   "source": [
    "#### Combining w2v, tfidf and sparse (author + subreddit) matrix "
   ]
  },
  {
   "cell_type": "code",
   "execution_count": 53,
   "metadata": {},
   "outputs": [],
   "source": [
    "ProbTfIdf = pd.read_csv('solutionTfIdf.csv', index_col = 0 )"
   ]
  },
  {
   "cell_type": "code",
   "execution_count": 54,
   "metadata": {},
   "outputs": [],
   "source": [
    "solution['genderTfIdf'] = ProbTfIdf.ProbTfIdf "
   ]
  },
  {
   "cell_type": "code",
   "execution_count": 55,
   "metadata": {},
   "outputs": [],
   "source": [
    "ProbW2V = pd.read_csv('solutionW2V.csv', index_col = 0 )"
   ]
  },
  {
   "cell_type": "code",
   "execution_count": 56,
   "metadata": {},
   "outputs": [],
   "source": [
    "solution['genderW2V'] = ProbW2V.W2VGender"
   ]
  },
  {
   "cell_type": "code",
   "execution_count": 57,
   "metadata": {},
   "outputs": [],
   "source": [
    "ProbW2VAug = pd.read_csv('solutionW2VAug.csv', index_col = 0 )"
   ]
  },
  {
   "cell_type": "code",
   "execution_count": 58,
   "metadata": {},
   "outputs": [],
   "source": [
    "solution['genderW2VAug'] = ProbW2VAug.W2VAugGender"
   ]
  },
  {
   "cell_type": "code",
   "execution_count": 59,
   "metadata": {},
   "outputs": [
    {
     "data": {
      "text/html": [
       "<div>\n",
       "<style scoped>\n",
       "    .dataframe tbody tr th:only-of-type {\n",
       "        vertical-align: middle;\n",
       "    }\n",
       "\n",
       "    .dataframe tbody tr th {\n",
       "        vertical-align: top;\n",
       "    }\n",
       "\n",
       "    .dataframe thead th {\n",
       "        text-align: right;\n",
       "    }\n",
       "</style>\n",
       "<table border=\"1\" class=\"dataframe\">\n",
       "  <thead>\n",
       "    <tr style=\"text-align: right;\">\n",
       "      <th></th>\n",
       "      <th>author</th>\n",
       "      <th>genderSub</th>\n",
       "      <th>genderTfIdf</th>\n",
       "      <th>genderW2V</th>\n",
       "      <th>genderW2VAug</th>\n",
       "    </tr>\n",
       "  </thead>\n",
       "  <tbody>\n",
       "    <tr>\n",
       "      <td>0</td>\n",
       "      <td>ejchristian86</td>\n",
       "      <td>0.999281</td>\n",
       "      <td>0.639294</td>\n",
       "      <td>0.378125</td>\n",
       "      <td>0.556254</td>\n",
       "    </tr>\n",
       "    <tr>\n",
       "      <td>1</td>\n",
       "      <td>ZenDragon</td>\n",
       "      <td>0.007283</td>\n",
       "      <td>0.012001</td>\n",
       "      <td>0.107748</td>\n",
       "      <td>0.108947</td>\n",
       "    </tr>\n",
       "    <tr>\n",
       "      <td>2</td>\n",
       "      <td>savoytruffle</td>\n",
       "      <td>0.047766</td>\n",
       "      <td>0.010682</td>\n",
       "      <td>0.239868</td>\n",
       "      <td>0.312151</td>\n",
       "    </tr>\n",
       "    <tr>\n",
       "      <td>3</td>\n",
       "      <td>hentercenter</td>\n",
       "      <td>0.019414</td>\n",
       "      <td>0.086011</td>\n",
       "      <td>0.287511</td>\n",
       "      <td>0.398300</td>\n",
       "    </tr>\n",
       "    <tr>\n",
       "      <td>4</td>\n",
       "      <td>rick-o-suave</td>\n",
       "      <td>0.351151</td>\n",
       "      <td>0.156351</td>\n",
       "      <td>0.119092</td>\n",
       "      <td>0.142759</td>\n",
       "    </tr>\n",
       "  </tbody>\n",
       "</table>\n",
       "</div>"
      ],
      "text/plain": [
       "          author  genderSub  genderTfIdf  genderW2V  genderW2VAug\n",
       "0  ejchristian86   0.999281     0.639294   0.378125      0.556254\n",
       "1      ZenDragon   0.007283     0.012001   0.107748      0.108947\n",
       "2   savoytruffle   0.047766     0.010682   0.239868      0.312151\n",
       "3   hentercenter   0.019414     0.086011   0.287511      0.398300\n",
       "4   rick-o-suave   0.351151     0.156351   0.119092      0.142759"
      ]
     },
     "execution_count": 59,
     "metadata": {},
     "output_type": "execute_result"
    }
   ],
   "source": [
    "solution.head()"
   ]
  },
  {
   "cell_type": "code",
   "execution_count": 60,
   "metadata": {},
   "outputs": [],
   "source": [
    "x_testLR = solution.iloc[:, 1:4]"
   ]
  },
  {
   "cell_type": "code",
   "execution_count": 61,
   "metadata": {},
   "outputs": [],
   "source": [
    "y_testLR = lrClf.predict_proba(x_testLR)[:,1] #applico laregressione lineare"
   ]
  },
  {
   "cell_type": "markdown",
   "metadata": {},
   "source": [
    "#### preparo la submission"
   ]
  },
  {
   "cell_type": "code",
   "execution_count": 62,
   "metadata": {},
   "outputs": [],
   "source": [
    "submissionFinal = pd.DataFrame({\"author\":test_data.author.unique(), \"gender\":y_testLR})\n"
   ]
  },
  {
   "cell_type": "code",
   "execution_count": 63,
   "metadata": {},
   "outputs": [],
   "source": [
    "submissionFinal.to_csv(\"submission.csv\", index=False)"
   ]
  },
  {
   "cell_type": "code",
   "execution_count": 64,
   "metadata": {},
   "outputs": [
    {
     "data": {
      "text/html": [
       "<div>\n",
       "<style scoped>\n",
       "    .dataframe tbody tr th:only-of-type {\n",
       "        vertical-align: middle;\n",
       "    }\n",
       "\n",
       "    .dataframe tbody tr th {\n",
       "        vertical-align: top;\n",
       "    }\n",
       "\n",
       "    .dataframe thead th {\n",
       "        text-align: right;\n",
       "    }\n",
       "</style>\n",
       "<table border=\"1\" class=\"dataframe\">\n",
       "  <thead>\n",
       "    <tr style=\"text-align: right;\">\n",
       "      <th></th>\n",
       "      <th>author</th>\n",
       "      <th>gender</th>\n",
       "    </tr>\n",
       "  </thead>\n",
       "  <tbody>\n",
       "    <tr>\n",
       "      <td>0</td>\n",
       "      <td>ejchristian86</td>\n",
       "      <td>0.902979</td>\n",
       "    </tr>\n",
       "    <tr>\n",
       "      <td>1</td>\n",
       "      <td>ZenDragon</td>\n",
       "      <td>0.027953</td>\n",
       "    </tr>\n",
       "    <tr>\n",
       "      <td>2</td>\n",
       "      <td>savoytruffle</td>\n",
       "      <td>0.039403</td>\n",
       "    </tr>\n",
       "    <tr>\n",
       "      <td>3</td>\n",
       "      <td>hentercenter</td>\n",
       "      <td>0.043312</td>\n",
       "    </tr>\n",
       "    <tr>\n",
       "      <td>4</td>\n",
       "      <td>rick-o-suave</td>\n",
       "      <td>0.140905</td>\n",
       "    </tr>\n",
       "  </tbody>\n",
       "</table>\n",
       "</div>"
      ],
      "text/plain": [
       "          author    gender\n",
       "0  ejchristian86  0.902979\n",
       "1      ZenDragon  0.027953\n",
       "2   savoytruffle  0.039403\n",
       "3   hentercenter  0.043312\n",
       "4   rick-o-suave  0.140905"
      ]
     },
     "execution_count": 64,
     "metadata": {},
     "output_type": "execute_result"
    }
   ],
   "source": [
    "submissionFinal.head()"
   ]
  }
 ],
 "metadata": {
  "kernelspec": {
   "display_name": "Python 3",
   "language": "python",
   "name": "python3"
  },
  "language_info": {
   "codemirror_mode": {
    "name": "ipython",
    "version": 3
   },
   "file_extension": ".py",
   "mimetype": "text/x-python",
   "name": "python",
   "nbconvert_exporter": "python",
   "pygments_lexer": "ipython3",
   "version": "3.7.4"
  }
 },
 "nbformat": 4,
 "nbformat_minor": 4
}
